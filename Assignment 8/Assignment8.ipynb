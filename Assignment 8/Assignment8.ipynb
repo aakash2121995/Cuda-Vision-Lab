{
 "cells": [
  {
   "cell_type": "code",
   "execution_count": 1,
   "metadata": {},
   "outputs": [],
   "source": [
    "from __future__ import print_function, division\n",
    "\n",
    "import torch\n",
    "import torch.nn as nn\n",
    "import torch.optim as optim\n",
    "from torch.optim import lr_scheduler\n",
    "import numpy as np\n",
    "import torchvision\n",
    "from torchvision import datasets, models, transforms\n",
    "import matplotlib.pyplot as plt\n",
    "import time\n",
    "import os\n",
    "import copy\n",
    "from torch.autograd import Variable\n",
    "from torchvision.utils import save_image, make_grid\n",
    "\n",
    "plt.ion()"
   ]
  },
  {
   "cell_type": "code",
   "execution_count": 2,
   "metadata": {},
   "outputs": [],
   "source": [
    "class Generator(nn.Module):\n",
    "\n",
    "    def __init__(self):\n",
    "        super(Generator, self).__init__()\n",
    "        self.block = nn.Sequential(\n",
    "\n",
    "            nn.ConvTranspose2d(100, 512, 4, 1, 0, bias=False),\n",
    "            nn.BatchNorm2d(512),\n",
    "            nn.LeakyReLU(0.2,True),\n",
    "\n",
    "            nn.ConvTranspose2d(512, 256, 4, 2, 1, bias=False),\n",
    "            nn.BatchNorm2d(256),\n",
    "            nn.LeakyReLU(0.2,True),\n",
    "\n",
    "            nn.ConvTranspose2d(256, 128, 4, 2, 1, bias=False),\n",
    "            nn.BatchNorm2d(128),\n",
    "            nn.LeakyReLU(0.2,True),\n",
    "\n",
    "            nn.ConvTranspose2d(128, 64, 4, 2, 1, bias=False),\n",
    "            nn.BatchNorm2d(64),\n",
    "            nn.LeakyReLU(0.2,True),\n",
    "            \n",
    "            nn.ConvTranspose2d(64, 3, 4, 2, 1, bias=False),\n",
    "            nn.Tanh()\n",
    "        )\n",
    "\n",
    "    def forward(self, x):\n",
    "        x = self.block(x)\n",
    "        #print(x.size())\n",
    "        return x"
   ]
  },
  {
   "cell_type": "code",
   "execution_count": 3,
   "metadata": {},
   "outputs": [],
   "source": [
    "class Discriminator(nn.Module):\n",
    "\n",
    "    def __init__(self):\n",
    "        super(Discriminator, self).__init__()\n",
    "        self.block = nn.Sequential(\n",
    "            #nn.Dropout2d(0.2),\n",
    "            nn.Conv2d(3, 16, kernel_size=(3,3),padding=1, bias=False),\n",
    "            nn.BatchNorm2d(16),\n",
    "            nn.LeakyReLU(0.2,inplace=True),\n",
    "            nn.MaxPool2d(kernel_size=2, stride=2),\n",
    " \n",
    "            nn.Conv2d(16, 32, kernel_size=(3, 3), padding=1, bias=False),\n",
    "            nn.BatchNorm2d(32),\n",
    "            nn.LeakyReLU(0.2,inplace=True),\n",
    "            nn.MaxPool2d(kernel_size=2, stride=2),\n",
    " \n",
    "            nn.Conv2d(32, 64, kernel_size=(3,3),padding=1, bias=False),\n",
    "            nn.BatchNorm2d(64),\n",
    "            nn.LeakyReLU(0.2,inplace=True),\n",
    "            nn.MaxPool2d(kernel_size=2, stride=2),\n",
    "            \n",
    "            nn.Conv2d(64, 128, kernel_size=(3, 3), padding=1, bias=False),\n",
    "            nn.BatchNorm2d(128),\n",
    "            nn.LeakyReLU(0.2, inplace=True),\n",
    "            nn.MaxPool2d(kernel_size=2, stride=2),\n",
    "            \n",
    "            nn.Conv2d(128, 256, kernel_size=(3,3),padding=1, bias=False),            \n",
    "            nn.AvgPool2d(kernel_size=(4,4)),\n",
    "            #nn.Linear(512,2)\n",
    "        )\n",
    "        self.out = nn.Sequential(nn.Linear(256,1),nn.Sigmoid())\n",
    "    def forward(self, x):\n",
    "        x1 = self.block(x)\n",
    "        x1 = x1.view(x.size(0),-1)\n",
    "        x = self.out(x1)\n",
    "        #print(x.size())\n",
    "        return x\n",
    "\n",
    "gen_model = Generator().cuda()\n",
    "dis_model = Discriminator().cuda()\n",
    "\n"
   ]
  },
  {
   "cell_type": "code",
   "execution_count": 4,
   "metadata": {},
   "outputs": [],
   "source": [
    "avDev = torch.device(\"cuda:0\")"
   ]
  },
  {
   "cell_type": "code",
   "execution_count": 5,
   "metadata": {},
   "outputs": [],
   "source": [
    "def dataloaders(path=r\"./images\"):\n",
    "    transforms_list = transforms.Compose([\n",
    "        transforms.Resize(image_size),\n",
    "        transforms.CenterCrop(image_size),\n",
    "        transforms.ToTensor()\n",
    "    ])\n",
    "    \n",
    "    dataset = datasets.ImageFolder(path, transforms_list)\n",
    "\n",
    "    dataloader = torch.utils.data.DataLoader(dataset, batch_size=batch_size, shuffle=True, drop_last=True)\n",
    "    return dataloader\n",
    "\n",
    "\n",
    "def generate_images(gen_model, epoch_no, batch_size=16):\n",
    "    gen_inp = torch.randn(batch_size, 100, 1, 1, device=avDev)\n",
    "    gen_inp = gen_inp.cuda()\n",
    "    fake_images = gen_model(gen_inp)\n",
    "    fake_images = fake_images.cpu().detach()\n",
    "    show(make_grid(fake_images, nrow=4))\n",
    "\n",
    "    \n",
    "def weights_init(m):\n",
    "    classname = m.__class__.__name__\n",
    "    if classname.find('Conv') != -1:\n",
    "        nn.init.normal_(m.weight.data, 0.0, 0.02)\n",
    "    elif classname.find('BatchNorm') != -1:\n",
    "        nn.init.normal_(m.weight.data, 1.0, 0.02)\n",
    "        nn.init.constant_(m.bias.data, 0)\n",
    "\n",
    "def show(img):\n",
    "    npimg = img.numpy()\n",
    "    plt.figure(figsize = (8,8))\n",
    "    plt.imshow(np.transpose(npimg, (1,2,0)), interpolation='nearest', aspect='auto')"
   ]
  },
  {
   "cell_type": "code",
   "execution_count": null,
   "metadata": {},
   "outputs": [
    {
     "name": "stderr",
     "output_type": "stream",
     "text": [
      "Clipping input data to the valid range for imshow with RGB data ([0..1] for floats or [0..255] for integers).\n"
     ]
    },
    {
     "name": "stdout",
     "output_type": "stream",
     "text": [
      "SAMPLE OF TRUE IMAGES..\n",
      "SAMPLES OF GENERATED IMAGES..\n",
      "Epoch 0\n",
      "Generator and Discrimator average loss: 0.8433278072625399, 0.7020684201270342\n",
      "Current Discriminator Accuracy = 8.984375\n",
      "Current Discriminator Positives Accuracy = 2.03125\n",
      "Current Discriminator Negatives Accuracy = 15.9375\n",
      "Current Generator Accuracy = 0.0625\n"
     ]
    },
    {
     "name": "stderr",
     "output_type": "stream",
     "text": [
      "Clipping input data to the valid range for imshow with RGB data ([0..1] for floats or [0..255] for integers).\n"
     ]
    },
    {
     "name": "stdout",
     "output_type": "stream",
     "text": [
      "SAMPLES OF GENERATED IMAGES..\n",
      "Epoch 10\n",
      "Generator and Discrimator average loss: 1.1027829237282276, 0.5546630038879812\n",
      "Current Discriminator Accuracy = 13.4453125\n",
      "Current Discriminator Positives Accuracy = 12.84375\n",
      "Current Discriminator Negatives Accuracy = 14.046875\n",
      "Current Generator Accuracy = 1.953125\n"
     ]
    },
    {
     "name": "stderr",
     "output_type": "stream",
     "text": [
      "Clipping input data to the valid range for imshow with RGB data ([0..1] for floats or [0..255] for integers).\n"
     ]
    },
    {
     "name": "stdout",
     "output_type": "stream",
     "text": [
      "SAMPLES OF GENERATED IMAGES..\n",
      "Epoch 20\n",
      "Generator and Discrimator average loss: 1.237726324237883, 0.5462089609354734\n",
      "Current Discriminator Accuracy = 13.5546875\n",
      "Current Discriminator Positives Accuracy = 12.9375\n",
      "Current Discriminator Negatives Accuracy = 14.171875\n",
      "Current Generator Accuracy = 1.828125\n"
     ]
    },
    {
     "name": "stderr",
     "output_type": "stream",
     "text": [
      "Clipping input data to the valid range for imshow with RGB data ([0..1] for floats or [0..255] for integers).\n"
     ]
    },
    {
     "name": "stdout",
     "output_type": "stream",
     "text": [
      "SAMPLES OF GENERATED IMAGES..\n",
      "Epoch 30\n",
      "Generator and Discrimator average loss: 1.6263795122504234, 0.4447324469219893\n",
      "Current Discriminator Accuracy = 14.6015625\n",
      "Current Discriminator Positives Accuracy = 14.359375\n",
      "Current Discriminator Negatives Accuracy = 14.84375\n",
      "Current Generator Accuracy = 1.15625\n"
     ]
    },
    {
     "name": "stderr",
     "output_type": "stream",
     "text": [
      "Clipping input data to the valid range for imshow with RGB data ([0..1] for floats or [0..255] for integers).\n"
     ]
    },
    {
     "name": "stdout",
     "output_type": "stream",
     "text": [
      "SAMPLES OF GENERATED IMAGES..\n",
      "Epoch 40\n",
      "Generator and Discrimator average loss: 1.5346604892984033, 0.4527559978887439\n",
      "Current Discriminator Accuracy = 14.3359375\n",
      "Current Discriminator Positives Accuracy = 14.328125\n",
      "Current Discriminator Negatives Accuracy = 14.34375\n",
      "Current Generator Accuracy = 1.65625\n"
     ]
    },
    {
     "name": "stderr",
     "output_type": "stream",
     "text": [
      "Clipping input data to the valid range for imshow with RGB data ([0..1] for floats or [0..255] for integers).\n"
     ]
    },
    {
     "name": "stdout",
     "output_type": "stream",
     "text": [
      "SAMPLES OF GENERATED IMAGES..\n",
      "Epoch 50\n",
      "Generator and Discrimator average loss: 1.9514185544103384, 0.35870601050555706\n",
      "Current Discriminator Accuracy = 14.8984375\n",
      "Current Discriminator Positives Accuracy = 14.90625\n",
      "Current Discriminator Negatives Accuracy = 14.890625\n",
      "Current Generator Accuracy = 1.109375\n"
     ]
    },
    {
     "name": "stderr",
     "output_type": "stream",
     "text": [
      "Clipping input data to the valid range for imshow with RGB data ([0..1] for floats or [0..255] for integers).\n"
     ]
    },
    {
     "name": "stdout",
     "output_type": "stream",
     "text": [
      "SAMPLES OF GENERATED IMAGES..\n",
      "Epoch 60\n",
      "Generator and Discrimator average loss: 2.345680011436343, 0.3231601509032771\n",
      "Current Discriminator Accuracy = 15.25\n",
      "Current Discriminator Positives Accuracy = 15.15625\n",
      "Current Discriminator Negatives Accuracy = 15.34375\n",
      "Current Generator Accuracy = 0.65625\n"
     ]
    },
    {
     "name": "stderr",
     "output_type": "stream",
     "text": [
      "Clipping input data to the valid range for imshow with RGB data ([0..1] for floats or [0..255] for integers).\n"
     ]
    },
    {
     "name": "stdout",
     "output_type": "stream",
     "text": [
      "SAMPLES OF GENERATED IMAGES..\n",
      "Epoch 70\n",
      "Generator and Discrimator average loss: 2.0325023345649242, 0.37777010328136384\n",
      "Current Discriminator Accuracy = 14.859375\n",
      "Current Discriminator Positives Accuracy = 14.703125\n",
      "Current Discriminator Negatives Accuracy = 15.015625\n",
      "Current Generator Accuracy = 0.984375\n"
     ]
    },
    {
     "name": "stderr",
     "output_type": "stream",
     "text": [
      "Clipping input data to the valid range for imshow with RGB data ([0..1] for floats or [0..255] for integers).\n"
     ]
    },
    {
     "name": "stdout",
     "output_type": "stream",
     "text": [
      "SAMPLES OF GENERATED IMAGES..\n",
      "Epoch 80\n",
      "Generator and Discrimator average loss: 2.46107833692804, 0.3464687436353415\n",
      "Current Discriminator Accuracy = 14.984375\n",
      "Current Discriminator Positives Accuracy = 15.03125\n",
      "Current Discriminator Negatives Accuracy = 14.9375\n",
      "Current Generator Accuracy = 1.0625\n"
     ]
    },
    {
     "name": "stderr",
     "output_type": "stream",
     "text": [
      "Clipping input data to the valid range for imshow with RGB data ([0..1] for floats or [0..255] for integers).\n"
     ]
    },
    {
     "name": "stdout",
     "output_type": "stream",
     "text": [
      "SAMPLES OF GENERATED IMAGES..\n",
      "Epoch 90\n",
      "Generator and Discrimator average loss: 2.516309032216668, 0.30132305034203455\n",
      "Current Discriminator Accuracy = 15.40625\n",
      "Current Discriminator Positives Accuracy = 15.21875\n",
      "Current Discriminator Negatives Accuracy = 15.59375\n",
      "Current Generator Accuracy = 0.40625\n"
     ]
    },
    {
     "name": "stderr",
     "output_type": "stream",
     "text": [
      "Clipping input data to the valid range for imshow with RGB data ([0..1] for floats or [0..255] for integers).\n"
     ]
    },
    {
     "name": "stdout",
     "output_type": "stream",
     "text": [
      "SAMPLES OF GENERATED IMAGES..\n",
      "Epoch 100\n",
      "Generator and Discrimator average loss: 2.4102360298857093, 0.30773115216288716\n",
      "Current Discriminator Accuracy = 15.1796875\n",
      "Current Discriminator Positives Accuracy = 15.125\n",
      "Current Discriminator Negatives Accuracy = 15.234375\n",
      "Current Generator Accuracy = 0.765625\n"
     ]
    },
    {
     "name": "stderr",
     "output_type": "stream",
     "text": [
      "Clipping input data to the valid range for imshow with RGB data ([0..1] for floats or [0..255] for integers).\n"
     ]
    },
    {
     "name": "stdout",
     "output_type": "stream",
     "text": [
      "SAMPLES OF GENERATED IMAGES..\n",
      "Epoch 110\n",
      "Generator and Discrimator average loss: 2.454275853931904, 0.33393732469994575\n",
      "Current Discriminator Accuracy = 15.03125\n",
      "Current Discriminator Positives Accuracy = 14.90625\n",
      "Current Discriminator Negatives Accuracy = 15.15625\n",
      "Current Generator Accuracy = 0.84375\n"
     ]
    },
    {
     "name": "stderr",
     "output_type": "stream",
     "text": [
      "Clipping input data to the valid range for imshow with RGB data ([0..1] for floats or [0..255] for integers).\n"
     ]
    },
    {
     "name": "stdout",
     "output_type": "stream",
     "text": [
      "SAMPLES OF GENERATED IMAGES..\n",
      "Epoch 120\n",
      "Generator and Discrimator average loss: 2.804047922603786, 0.28140960415476\n",
      "Current Discriminator Accuracy = 15.296875\n",
      "Current Discriminator Positives Accuracy = 15.09375\n",
      "Current Discriminator Negatives Accuracy = 15.5\n",
      "Current Generator Accuracy = 0.5\n"
     ]
    },
    {
     "name": "stderr",
     "output_type": "stream",
     "text": [
      "Clipping input data to the valid range for imshow with RGB data ([0..1] for floats or [0..255] for integers).\n"
     ]
    },
    {
     "name": "stdout",
     "output_type": "stream",
     "text": [
      "SAMPLES OF GENERATED IMAGES..\n",
      "Epoch 130\n",
      "Generator and Discrimator average loss: 2.919398915488273, 0.25064292081515305\n",
      "Current Discriminator Accuracy = 15.484375\n",
      "Current Discriminator Positives Accuracy = 15.5625\n",
      "Current Discriminator Negatives Accuracy = 15.40625\n",
      "Current Generator Accuracy = 0.59375\n"
     ]
    },
    {
     "name": "stderr",
     "output_type": "stream",
     "text": [
      "Clipping input data to the valid range for imshow with RGB data ([0..1] for floats or [0..255] for integers).\n"
     ]
    },
    {
     "name": "stdout",
     "output_type": "stream",
     "text": [
      "SAMPLES OF GENERATED IMAGES..\n",
      "Epoch 140\n",
      "Generator and Discrimator average loss: 2.734283212572336, 0.2856207637814805\n",
      "Current Discriminator Accuracy = 15.4609375\n",
      "Current Discriminator Positives Accuracy = 15.265625\n",
      "Current Discriminator Negatives Accuracy = 15.65625\n",
      "Current Generator Accuracy = 0.34375\n"
     ]
    },
    {
     "name": "stderr",
     "output_type": "stream",
     "text": [
      "Clipping input data to the valid range for imshow with RGB data ([0..1] for floats or [0..255] for integers).\n"
     ]
    },
    {
     "name": "stdout",
     "output_type": "stream",
     "text": [
      "SAMPLES OF GENERATED IMAGES..\n",
      "Epoch 150\n",
      "Generator and Discrimator average loss: 2.989222090691328, 0.24727321192040108\n",
      "Current Discriminator Accuracy = 15.4609375\n",
      "Current Discriminator Positives Accuracy = 15.390625\n",
      "Current Discriminator Negatives Accuracy = 15.53125\n",
      "Current Generator Accuracy = 0.46875\n"
     ]
    },
    {
     "name": "stderr",
     "output_type": "stream",
     "text": [
      "Clipping input data to the valid range for imshow with RGB data ([0..1] for floats or [0..255] for integers).\n"
     ]
    },
    {
     "name": "stdout",
     "output_type": "stream",
     "text": [
      "SAMPLES OF GENERATED IMAGES..\n",
      "Epoch 160\n",
      "Generator and Discrimator average loss: 3.4722580751404166, 0.2592405207105912\n",
      "Current Discriminator Accuracy = 15.3671875\n",
      "Current Discriminator Positives Accuracy = 15.5\n",
      "Current Discriminator Negatives Accuracy = 15.234375\n",
      "Current Generator Accuracy = 0.765625\n"
     ]
    },
    {
     "name": "stderr",
     "output_type": "stream",
     "text": [
      "Clipping input data to the valid range for imshow with RGB data ([0..1] for floats or [0..255] for integers).\n"
     ]
    },
    {
     "name": "stdout",
     "output_type": "stream",
     "text": [
      "SAMPLES OF GENERATED IMAGES..\n",
      "Epoch 170\n",
      "Generator and Discrimator average loss: 2.9757222793996334, 0.24509906495222822\n",
      "Current Discriminator Accuracy = 15.546875\n",
      "Current Discriminator Positives Accuracy = 15.359375\n",
      "Current Discriminator Negatives Accuracy = 15.734375\n",
      "Current Generator Accuracy = 0.265625\n"
     ]
    },
    {
     "name": "stderr",
     "output_type": "stream",
     "text": [
      "Clipping input data to the valid range for imshow with RGB data ([0..1] for floats or [0..255] for integers).\n"
     ]
    },
    {
     "name": "stdout",
     "output_type": "stream",
     "text": [
      "SAMPLES OF GENERATED IMAGES..\n",
      "Epoch 180\n",
      "Generator and Discrimator average loss: 2.94578024931252, 0.20245543465716764\n",
      "Current Discriminator Accuracy = 15.6953125\n",
      "Current Discriminator Positives Accuracy = 15.640625\n",
      "Current Discriminator Negatives Accuracy = 15.75\n",
      "Current Generator Accuracy = 0.25\n"
     ]
    },
    {
     "name": "stderr",
     "output_type": "stream",
     "text": [
      "/home/user/mangatpa/anaconda3/lib/python3.7/site-packages/ipykernel_launcher.py:32: RuntimeWarning: More than 20 figures have been opened. Figures created through the pyplot interface (`matplotlib.pyplot.figure`) are retained until explicitly closed and may consume too much memory. (To control this warning, see the rcParam `figure.max_open_warning`).\n",
      "Clipping input data to the valid range for imshow with RGB data ([0..1] for floats or [0..255] for integers).\n"
     ]
    },
    {
     "name": "stdout",
     "output_type": "stream",
     "text": [
      "SAMPLES OF GENERATED IMAGES..\n",
      "Epoch 190\n",
      "Generator and Discrimator average loss: 3.588310773484409, 0.24698671052465215\n",
      "Current Discriminator Accuracy = 15.4765625\n",
      "Current Discriminator Positives Accuracy = 15.609375\n",
      "Current Discriminator Negatives Accuracy = 15.34375\n",
      "Current Generator Accuracy = 0.65625\n"
     ]
    },
    {
     "name": "stderr",
     "output_type": "stream",
     "text": [
      "Clipping input data to the valid range for imshow with RGB data ([0..1] for floats or [0..255] for integers).\n"
     ]
    },
    {
     "name": "stdout",
     "output_type": "stream",
     "text": [
      "SAMPLES OF GENERATED IMAGES..\n",
      "Epoch 200\n",
      "Generator and Discrimator average loss: 3.5932771526277065, 0.2598382553551346\n",
      "Current Discriminator Accuracy = 15.515625\n",
      "Current Discriminator Positives Accuracy = 15.546875\n",
      "Current Discriminator Negatives Accuracy = 15.484375\n",
      "Current Generator Accuracy = 0.515625\n"
     ]
    },
    {
     "name": "stderr",
     "output_type": "stream",
     "text": [
      "Clipping input data to the valid range for imshow with RGB data ([0..1] for floats or [0..255] for integers).\n"
     ]
    },
    {
     "name": "stdout",
     "output_type": "stream",
     "text": [
      "SAMPLES OF GENERATED IMAGES..\n",
      "Epoch 210\n",
      "Generator and Discrimator average loss: 3.542491387575865, 0.22385903703980148\n",
      "Current Discriminator Accuracy = 15.5625\n",
      "Current Discriminator Positives Accuracy = 15.546875\n",
      "Current Discriminator Negatives Accuracy = 15.578125\n",
      "Current Generator Accuracy = 0.421875\n"
     ]
    }
   ],
   "source": [
    "if __name__ == \"__main__\":\n",
    "\n",
    "    image_size = 64\n",
    "    batch_size = 16\n",
    "    n_epochs = 250\n",
    "\n",
    "    gen_lr = 1e-3\n",
    "    dis_lr = 1e-4\n",
    "\n",
    "    gen_model = Generator().cuda()\n",
    "    dis_model = Discriminator().cuda()\n",
    "\n",
    "    optimizer_gen = optim.Adam(gen_model.parameters(), lr=gen_lr, betas=(0.5, 0.999))\n",
    "    optimizer_dis = optim.Adam(dis_model.parameters(), lr=dis_lr, betas=(0.5, 0.999))\n",
    "\n",
    "    true_labels = 0.0   # CHANGE TO ZERO TO FLIP LABELS\n",
    "    \n",
    "    d_true_labels = Variable(torch.Tensor(batch_size).fill_(true_labels), requires_grad=False).cuda()\n",
    "    g_labels = Variable(torch.Tensor(batch_size).fill_(1.0-true_labels), requires_grad=False).cuda()\n",
    "      \n",
    "    place_holder_true = np.ones([batch_size]) * true_labels\n",
    "    place_holder_false = np.ones([batch_size]) * (1.0-true_labels)\n",
    "\n",
    "    loss = nn.BCELoss().cuda()\n",
    "\n",
    "    loss_list = []\n",
    "\n",
    "    disc_dataloader = dataloaders()\n",
    "\n",
    "    for epoch in range(n_epochs):\n",
    "\n",
    "        total = len(disc_dataloader) * batch_size * 2\n",
    "        correct_pos = 0.0\n",
    "        correct_neg = 0.0\n",
    "        gen_acc = 0.0\n",
    "\n",
    "        disc_loss_epoch = 0\n",
    "        gen_loss_epoch = 0\n",
    "\n",
    "        #for batch_id, (true_images,_) in enumerate(disc_dataloader, 0): # For MNIST Example\n",
    "        for batch_id, (true_images,_) in enumerate(disc_dataloader, 0):\n",
    "            if epoch==0 and batch_id == 0:\n",
    "                sample_true = true_images\n",
    "            gen_model.train()\n",
    "            dis_model.train()\n",
    "\n",
    "            optimizer_dis.zero_grad()\n",
    "            gen_inp_1 = torch.randn(batch_size, 100, 1, 1, device=avDev, requires_grad=False)\n",
    "\n",
    "            # gen_inp = gen_inp.to(device)\n",
    "            fake_images = gen_model(gen_inp_1)\n",
    "            # TRAINING DISCRIMINATOR\n",
    "\n",
    "            true_images = true_images.cuda()\n",
    "            \n",
    "            d_true_loss = loss(dis_model(true_images).view(-1), d_true_labels)\n",
    "            d_fake_loss = loss(dis_model(fake_images.detach()).view(-1), g_labels)  # Have to detach from graph for some reason\n",
    "\n",
    "            d_loss = (d_true_loss + d_fake_loss) / 2\n",
    "\n",
    "            d_true_loss.backward()\n",
    "            d_fake_loss.backward()\n",
    "            optimizer_dis.step()\n",
    "\n",
    "            # TRAINING GENERATOR\n",
    "            optimizer_gen.zero_grad()\n",
    "\n",
    "            # CREATING A BATCH OF RANDOM NOISE IN [0,1] FOR GENERATOR INPUT\n",
    "            gen_loss = loss(dis_model(fake_images).view(-1), d_true_labels)\n",
    "            gen_loss.backward()\n",
    "            optimizer_gen.step()\n",
    "\n",
    "            gen_loss_epoch += gen_loss.item()\n",
    "            disc_loss_epoch += d_loss.item()\n",
    "\n",
    "            with torch.no_grad():\n",
    "                outputs = dis_model(true_images)\n",
    "                predicted = (outputs > 0.5).to(\"cpu\").numpy()\n",
    "                batch_disc_acc = (predicted == place_holder_true).sum()/batch_size\n",
    "                correct_pos += (predicted == place_holder_true).sum()\n",
    "\n",
    "                outputs = dis_model(fake_images.detach())\n",
    "                predicted = (outputs > 0.5).to(\"cpu\").numpy()\n",
    "                correct_neg += (predicted == place_holder_false).sum()\n",
    "\n",
    "                outputs = dis_model(fake_images.detach())\n",
    "                predicted = (outputs > 0.5).to(\"cpu\").numpy()\n",
    "                batch_gen_acc = (predicted == place_holder_true).sum()/batch_size\n",
    "                gen_acc += (predicted == place_holder_true).sum()\n",
    "\n",
    "        correct_pos/=total\n",
    "        correct_neg/=total\n",
    "        gen_acc/=(total / 2)\n",
    "\n",
    "        \n",
    "        loss_list.append((gen_loss_epoch/len(disc_dataloader),disc_loss_epoch/len(disc_dataloader)))\n",
    "        \n",
    "        if epoch==0:\n",
    "          print(\"SAMPLE OF TRUE IMAGES..\")\n",
    "          true_images = sample_true.cpu().detach()\n",
    "          show(make_grid(true_images, nrow=4))\n",
    "          \n",
    "        if epoch%10==0:\n",
    "          print(\"SAMPLES OF GENERATED IMAGES..\")\n",
    "          print(\"Epoch {}\".format(epoch))\n",
    "          print(\"Generator and Discrimator average loss: {}, {}\".\n",
    "              format(gen_loss_epoch / len(disc_dataloader), disc_loss_epoch / len(disc_dataloader)))\n",
    "          print(\"Current Discriminator Accuracy = {}\".format(correct_pos+correct_neg))\n",
    "          print(\"Current Discriminator Positives Accuracy = {}\".format(correct_pos*2))\n",
    "          print(\"Current Discriminator Negatives Accuracy = {}\".format(correct_neg*2))\n",
    "          print(\"Current Generator Accuracy = {}\".format(gen_acc))\n",
    "          generate_images(gen_model, epoch, 16)"
   ]
  },
  {
   "cell_type": "code",
   "execution_count": null,
   "metadata": {},
   "outputs": [],
   "source": []
  }
 ],
 "metadata": {
  "kernelspec": {
   "display_name": "Python 3",
   "language": "python",
   "name": "python3"
  },
  "language_info": {
   "codemirror_mode": {
    "name": "ipython",
    "version": 3
   },
   "file_extension": ".py",
   "mimetype": "text/x-python",
   "name": "python",
   "nbconvert_exporter": "python",
   "pygments_lexer": "ipython3",
   "version": "3.7.4"
  }
 },
 "nbformat": 4,
 "nbformat_minor": 2
}
