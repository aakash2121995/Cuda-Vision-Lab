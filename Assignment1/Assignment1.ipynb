{
 "cells": [
  {
   "cell_type": "code",
   "execution_count": 1,
   "metadata": {},
   "outputs": [],
   "source": [
    "import numpy as np\n",
    "from scipy.special import softmax\n",
    "import seaborn as sns\n",
    "from matplotlib import pyplot as plt\n",
    "%matplotlib inline"
   ]
  },
  {
   "cell_type": "code",
   "execution_count": 2,
   "metadata": {},
   "outputs": [],
   "source": [
    "def sigmoid(x):\n",
    "    return 1/(1+np.exp(-x))"
   ]
  },
  {
   "cell_type": "markdown",
   "metadata": {},
   "source": [
    "## Class for Logistic Neuron"
   ]
  },
  {
   "cell_type": "code",
   "execution_count": 54,
   "metadata": {},
   "outputs": [],
   "source": [
    "class Logistic_Neuron:\n",
    "    def __init__(self,input_dim, output_dim,hidden_layer_dim, batch_size, learning_rate):\n",
    "        self.learning_rate = learning_rate\n",
    "        self.batch_size = batch_size\n",
    "        \n",
    "        # initialisation of weights\n",
    "        np.random.seed(15)\n",
    "        self.W1 = np.random.normal(0,1,size=(hidden_layer_dim,input_dim))\n",
    "        self.b1 = np.zeros((hidden_layer_dim,1))\n",
    "        self.W2 = np.random.normal(0,1,size=(output_dim,hidden_layer_dim))\n",
    "        self.b2 = np.zeros((output_dim,1))\n",
    "    \n",
    "    def fit(self,X, y, iterations):\n",
    "        self.loss_save = np.empty(iterations)\n",
    "        for i in range(iterations):\n",
    "            loss = 0\n",
    "            batches = int(X.shape[0]/self.batch_size)\n",
    "            for batch in range(batches):\n",
    "                X_batch = X[:,self.batch_size*batch:self.batch_size*(batch+1)]\n",
    "                y_batch = y[:,self.batch_size*batch:self.batch_size*(batch+1)]\n",
    "                \n",
    "                # forward propagation\n",
    "                Z1 = self.W1@X_batch + self.b1\n",
    "                A1 = sigmoid(Z1)\n",
    "                \n",
    "                Z2 = self.W2@A1 + self.b2\n",
    "                A2 = softmax(Z2,axis=0)\n",
    "                loss += np.mean(np.sum((A2 - y_batch)**2,axis=1))\n",
    "                \n",
    "                # backward propagation\n",
    "                dE_dA2 = A2 - y_batch\n",
    "                dA2_dZ2 = A2 * (1 - A2)\n",
    "                \n",
    "                dZ2_dA1 = self.W2.T\n",
    "                dA1_dZ1 = A1 * (1 - A1)\n",
    "                \n",
    "                self.W2 = self.W2 - self.learning_rate*(dE_dA2*dA2_dZ2)@A1.T/self.batch_size\n",
    "                self.b2 = self.b2 - self.learning_rate*np.sum((dE_dA2*dA2_dZ2)@A1.T)/self.batch_size\n",
    "\n",
    "                self.W1 = self.W1 - self.learning_rate*((dZ2_dA1@(dE_dA2*dA2_dZ2))*dA1_dZ1)@X_batch.T/self.batch_size\n",
    "                self.b1 = self.b1 - self.learning_rate*np.sum(((dZ2_dA1@(dE_dA2*dA2_dZ2))*dA1_dZ1)@X_batch.T)/self.batch_size\n",
    "            \n",
    "            self.loss_save[i] = loss\n",
    "            \n",
    "            if (i+1)%100==0:\n",
    "                print('Iteration: {0} - Loss:{1}'.format(i+1,loss))\n",
    "                \n",
    "    def predict(self,X):\n",
    "        Z1 = self.W1@X + self.b1\n",
    "        A1 = sigmoid(Z1)\n",
    "        Z2 = self.W2@A1 + self.b2\n",
    "        return np.argmax(softmax(Z2,axis=0),axis=0)\n",
    "    \n",
    "    def display_loss(self):\n",
    "        ax = sns.lineplot(data = self.loss_save)\n",
    "        ax.set(xlabel = \"Iterations\", ylabel=\"Loss\")\n",
    "        plt.show()\n",
    "        "
   ]
  },
  {
   "cell_type": "markdown",
   "metadata": {},
   "source": [
    "\n",
    "## Data set loading and preprocessing"
   ]
  },
  {
   "cell_type": "code",
   "execution_count": 4,
   "metadata": {},
   "outputs": [],
   "source": [
    "import torchvision.datasets as dsets\n",
    "import torchvision.transforms as transforms\n",
    "\n",
    "train_dataset= dsets.MNIST(root='./data',train=True,transform=np.asarray,download=True)\n",
    "test_dataset= dsets.MNIST(root='./data',train=False,transform=np.asarray,download=True)"
   ]
  },
  {
   "cell_type": "code",
   "execution_count": 5,
   "metadata": {},
   "outputs": [],
   "source": [
    "def one_hot_encoder(array):\n",
    "    shape = (array.max()+1,array.shape[0])\n",
    "    op_array = np.zeros(shape)\n",
    "    op_array[array,np.arange(shape[1])]=1\n",
    "    return op_array"
   ]
  },
  {
   "cell_type": "code",
   "execution_count": 6,
   "metadata": {},
   "outputs": [],
   "source": [
    "X_train = np.array(list(map(lambda x: x[0].flatten()/255.0,train_dataset))).T\n",
    "y_train = one_hot_encoder(np.array(list(map(lambda x: x[1],train_dataset))))\n",
    "\n",
    "X_test = np.array(list(map(lambda x: x[0].flatten()/255.0,test_dataset))).T\n",
    "y_test = one_hot_encoder(np.array(list(map(lambda x: x[1],test_dataset))))"
   ]
  },
  {
   "cell_type": "code",
   "execution_count": 7,
   "metadata": {},
   "outputs": [
    {
     "name": "stdout",
     "output_type": "stream",
     "text": [
      "Shape of data arrays: \n",
      "Train X:(784, 60000),\tTrain y:(10, 60000),\n",
      "Test x:(784, 10000),\tTest y :(10, 10000)\n"
     ]
    }
   ],
   "source": [
    "print('Shape of data arrays: \\nTrain X:{0},\\tTrain y:{1},\\nTest x:{2},\\tTest y :{3}'.format(X_train.shape,y_train.shape,X_test.shape,y_test.shape))"
   ]
  },
  {
   "cell_type": "markdown",
   "metadata": {},
   "source": [
    "## Training of 2-layer Network"
   ]
  },
  {
   "cell_type": "code",
   "execution_count": 89,
   "metadata": {},
   "outputs": [],
   "source": [
    "nn = Logistic_Neuron(X_train.shape[0],y_train.shape[0],15,20,1.5)"
   ]
  },
  {
   "cell_type": "code",
   "execution_count": 90,
   "metadata": {},
   "outputs": [
    {
     "name": "stdout",
     "output_type": "stream",
     "text": [
      "Iteration: 100 - Loss:70.1465114948785\n",
      "Iteration: 200 - Loss:70.12457952376018\n",
      "Iteration: 300 - Loss:68.30361097788344\n",
      "Iteration: 400 - Loss:53.18477583687935\n",
      "Iteration: 500 - Loss:44.035087965802454\n",
      "Iteration: 600 - Loss:36.44914087021726\n",
      "Iteration: 700 - Loss:25.49991163213135\n",
      "Iteration: 800 - Loss:14.175624798480026\n",
      "Iteration: 900 - Loss:7.883535650173556\n",
      "Iteration: 1000 - Loss:5.9776480771849565\n",
      "Iteration: 1100 - Loss:5.218237399663252\n",
      "Iteration: 1200 - Loss:4.512242724200355\n",
      "Iteration: 1300 - Loss:3.876973808177976\n",
      "Iteration: 1400 - Loss:3.7731364736282953\n",
      "Iteration: 1500 - Loss:3.50844069972638\n",
      "Iteration: 1600 - Loss:3.396885462811335\n",
      "Iteration: 1700 - Loss:2.9910539054888226\n",
      "Iteration: 1800 - Loss:2.8892641538012946\n",
      "Iteration: 1900 - Loss:2.675852843649901\n",
      "Iteration: 2000 - Loss:2.6544435510919455\n",
      "Iteration: 2100 - Loss:2.3650631881758235\n",
      "Iteration: 2200 - Loss:2.256356417476545\n",
      "Iteration: 2300 - Loss:2.2456514432839847\n",
      "Iteration: 2400 - Loss:2.110147137392415\n",
      "Iteration: 2500 - Loss:2.0256073935745924\n",
      "Iteration: 2600 - Loss:1.9878263052659708\n",
      "Iteration: 2700 - Loss:1.9680197719041737\n",
      "Iteration: 2800 - Loss:1.870720148007679\n",
      "Iteration: 2900 - Loss:1.8586856373921377\n",
      "Iteration: 3000 - Loss:1.8461807799229317\n",
      "Iteration: 3100 - Loss:1.832000901162449\n",
      "Iteration: 3200 - Loss:1.5659064735138362\n",
      "Iteration: 3300 - Loss:1.5187286346123492\n",
      "Iteration: 3400 - Loss:1.5035962041351612\n",
      "Iteration: 3500 - Loss:1.4929725283324375\n",
      "Iteration: 3600 - Loss:1.4840439411224686\n",
      "Iteration: 3700 - Loss:1.4757578498559807\n",
      "Iteration: 3800 - Loss:1.46274934125934\n",
      "Iteration: 3900 - Loss:1.3315699144391553\n",
      "Iteration: 4000 - Loss:1.3128003800405768\n"
     ]
    }
   ],
   "source": [
    "nn.fit(X_train,y_train,4000)"
   ]
  },
  {
   "cell_type": "code",
   "execution_count": 91,
   "metadata": {},
   "outputs": [
    {
     "data": {
      "image/png": "[encoded data removed]",
      "text/plain": [
       "<Figure size 432x288 with 1 Axes>"
      ]
     },
     "metadata": {
      "needs_background": "light"
     },
     "output_type": "display_data"
    }
   ],
   "source": [
    "nn.display_loss()"
   ]
  },
  {
   "cell_type": "markdown",
   "metadata": {},
   "source": [
    "## Accuracy"
   ]
  },
  {
   "cell_type": "code",
   "execution_count": 92,
   "metadata": {},
   "outputs": [
    {
     "data": {
      "text/plain": [
       "76.38"
      ]
     },
     "execution_count": 92,
     "metadata": {},
     "output_type": "execute_result"
    }
   ],
   "source": [
    "predictions = nn.predict(X_test)\n",
    "a = (predictions == y_test.argmax(axis=0)).sum()\n",
    "100*a/y_test.shape[1]"
   ]
  }
 ],
 "metadata": {
  "kernelspec": {
   "display_name": "Python 3",
   "language": "python",
   "name": "python3"
  },
  "language_info": {
   "codemirror_mode": {
    "name": "ipython",
    "version": 3
   },
   "file_extension": ".py",
   "mimetype": "text/x-python",
   "name": "python",
   "nbconvert_exporter": "python",
   "pygments_lexer": "ipython3",
   "version": "3.7.4"
  }
 },
 "nbformat": 4,
 "nbformat_minor": 2
}
