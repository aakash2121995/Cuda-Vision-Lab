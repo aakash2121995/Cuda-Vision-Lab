{
 "cells": [
  {
   "cell_type": "markdown",
   "metadata": {},
   "source": [
    "### Group Members:\n",
    "\n",
    "#### 1. Aakash Aggarwal (3272727) aakash@uni-bonn.de\n",
    "#### 2. Suhaila Mangat Paramban (3277917) s6sumang@uni-bonn.de"
   ]
  },
  {
   "cell_type": "code",
   "execution_count": 1,
   "metadata": {},
   "outputs": [],
   "source": [
    "import numpy as np\n",
    "from scipy.special import softmax\n",
    "import seaborn as sns\n",
    "from matplotlib import pyplot as plt\n",
    "%matplotlib inline"
   ]
  },
  {
   "cell_type": "code",
   "execution_count": 2,
   "metadata": {},
   "outputs": [],
   "source": [
    "def sigmoid(x):\n",
    "    return 1/(1+np.exp(-x))"
   ]
  },
  {
   "cell_type": "markdown",
   "metadata": {},
   "source": [
    "## Class for Logistic Classification"
   ]
  },
  {
   "cell_type": "code",
   "execution_count": 3,
   "metadata": {},
   "outputs": [],
   "source": [
    "class Logistic_Network:\n",
    "    def __init__(self,input_dim, output_dim,hidden_layer_dim, batch_size, learning_rate):\n",
    "        self.learning_rate = learning_rate\n",
    "        self.batch_size = batch_size\n",
    "        \n",
    "        # initialisation of weights\n",
    "        np.random.seed(2121995)\n",
    "        self.W1 = np.random.normal(0,1,size=(hidden_layer_dim,input_dim))\n",
    "        self.b1 = np.zeros((hidden_layer_dim,1))\n",
    "        self.W2 = np.random.normal(0,1,size=(output_dim,hidden_layer_dim))\n",
    "        self.b2 = np.zeros((output_dim,1))\n",
    "    \n",
    "    def fit(self,X, y, iterations):\n",
    "        self.loss_save = np.empty(iterations)\n",
    "        \n",
    "        idx = np.arange(X.shape[1])\n",
    "        for i in range(iterations):\n",
    "            loss = 0\n",
    "            batches = int(X.shape[1]/self.batch_size)\n",
    "            for batch in range(batches):\n",
    "                X_batch = X[:,self.batch_size*batch:self.batch_size*(batch+1)]\n",
    "                y_batch = y[:,self.batch_size*batch:self.batch_size*(batch+1)]\n",
    "                \n",
    "                # forward propagation\n",
    "                Z1 = self.W1@X_batch + self.b1\n",
    "                A1 = sigmoid(Z1)\n",
    "                \n",
    "                Z2 = self.W2@A1 + self.b2\n",
    "                A2 = softmax(Z2,axis=0)\n",
    "                loss += np.mean(np.sum((A2 - y_batch)**2,axis=0))\n",
    "                \n",
    "                # backward propagation\n",
    "                dE_dA2 = A2 - y_batch\n",
    "                dA2_dZ2 = A2 * (1 - A2)\n",
    "                \n",
    "                dZ2_dA1 = self.W2.T\n",
    "                dA1_dZ1 = A1 * (1 - A1)\n",
    "                \n",
    "                self.W2 = self.W2 - self.learning_rate*(dE_dA2*dA2_dZ2)@A1.T/self.batch_size\n",
    "                self.b2 = self.b2 - self.learning_rate*np.sum((dE_dA2*dA2_dZ2)@A1.T)/self.batch_size\n",
    "\n",
    "                self.W1 = self.W1 - self.learning_rate*((dZ2_dA1@(dE_dA2*dA2_dZ2))*dA1_dZ1)@X_batch.T/self.batch_size\n",
    "                self.b1 = self.b1 - self.learning_rate*np.sum(((dZ2_dA1@(dE_dA2*dA2_dZ2))*dA1_dZ1)@X_batch.T)/self.batch_size\n",
    "            \n",
    "            self.loss_save[i] = loss/batches\n",
    "\n",
    "            if (i+1)%10==0:\n",
    "                np.set_printoptions(precision=2)\n",
    "                print('Iteration: {0} - Loss:{1}'.format(i+1,loss/batches))\n",
    "                \n",
    "    def predict(self,X):\n",
    "        Z1 = self.W1@X + self.b1\n",
    "        A1 = sigmoid(Z1)\n",
    "        Z2 = self.W2@A1 + self.b2\n",
    "        return np.argmax(softmax(Z2,axis=0),axis=0)\n",
    "    \n",
    "    def accuracy(self,X,y):\n",
    "        y_pred = self.predict(X)\n",
    "        a = (y_pred == y.argmax(axis=0)).sum()\n",
    "        return 100*a/y.shape[1]\n",
    "    \n",
    "    def display_loss(self):\n",
    "        ax = sns.lineplot(data = self.loss_save)\n",
    "        ax.set(xlabel = \"Iterations\", ylabel=\"Loss\")\n",
    "        plt.show()\n",
    "        "
   ]
  },
  {
   "cell_type": "markdown",
   "metadata": {},
   "source": [
    "\n",
    "## Data set loading and preprocessing"
   ]
  },
  {
   "cell_type": "code",
   "execution_count": 4,
   "metadata": {},
   "outputs": [],
   "source": [
    "import torchvision.datasets as dsets\n",
    "import torchvision.transforms as transforms\n",
    "\n",
    "train_dataset= dsets.MNIST(root='./data',train=True,transform=np.asarray,download=True)\n",
    "test_dataset= dsets.MNIST(root='./data',train=False,transform=np.asarray,download=True)"
   ]
  },
  {
   "cell_type": "code",
   "execution_count": 5,
   "metadata": {},
   "outputs": [],
   "source": [
    "def one_hot_encoder(array):\n",
    "    shape = (array.max()+1,array.shape[0])\n",
    "    op_array = np.zeros(shape)\n",
    "    op_array[array,np.arange(shape[1])]=1\n",
    "    return op_array"
   ]
  },
  {
   "cell_type": "code",
   "execution_count": 6,
   "metadata": {},
   "outputs": [],
   "source": [
    "X_train = np.array(list(map(lambda x: x[0].flatten()/255.0,train_dataset))).T\n",
    "y_train = one_hot_encoder(np.array(list(map(lambda x: x[1],train_dataset))))\n",
    "\n",
    "X_test = np.array(list(map(lambda x: x[0].flatten()/255.0,test_dataset))).T\n",
    "y_test = one_hot_encoder(np.array(list(map(lambda x: x[1],test_dataset))))"
   ]
  },
  {
   "cell_type": "code",
   "execution_count": 7,
   "metadata": {},
   "outputs": [
    {
     "name": "stdout",
     "output_type": "stream",
     "text": [
      "Shape of data arrays: \n",
      "Train X:(784, 60000),\tTrain y:(10, 60000),\n",
      "Test x:(784, 10000),\tTest y :(10, 10000)\n"
     ]
    }
   ],
   "source": [
    "print('Shape of data arrays: \\nTrain X:{0},\\tTrain y:{1},\\nTest x:{2},\\tTest y :{3}'.format(X_train.shape,y_train.shape,X_test.shape,y_test.shape))"
   ]
  },
  {
   "cell_type": "markdown",
   "metadata": {},
   "source": [
    "## Training of 2-layer Network"
   ]
  },
  {
   "cell_type": "code",
   "execution_count": 8,
   "metadata": {},
   "outputs": [],
   "source": [
    "nn = Logistic_Network(X_train.shape[0],y_train.shape[0],40,20,0.3)"
   ]
  },
  {
   "cell_type": "code",
   "execution_count": 9,
   "metadata": {},
   "outputs": [
    {
     "name": "stdout",
     "output_type": "stream",
     "text": [
      "Iteration: 10 - Loss:0.25600112752362636\n",
      "Iteration: 20 - Loss:0.18978979715978955\n",
      "Iteration: 30 - Loss:0.16290152332154123\n",
      "Iteration: 40 - Loss:0.1470212487412798\n",
      "Iteration: 50 - Loss:0.13609364417656594\n",
      "Iteration: 60 - Loss:0.12788785654869833\n",
      "Iteration: 70 - Loss:0.12100627041263455\n",
      "Iteration: 80 - Loss:0.11541848834604312\n",
      "Iteration: 90 - Loss:0.11091223448164725\n",
      "Iteration: 100 - Loss:0.10696757671852508\n",
      "Iteration: 110 - Loss:0.10356691967306027\n",
      "Iteration: 120 - Loss:0.10041020534259758\n",
      "Iteration: 130 - Loss:0.09741635827362588\n",
      "Iteration: 140 - Loss:0.09456261281077327\n",
      "Iteration: 150 - Loss:0.09190216360720238\n",
      "Iteration: 160 - Loss:0.08949899930795172\n",
      "Iteration: 170 - Loss:0.08717739636582915\n",
      "Iteration: 180 - Loss:0.08512771375848965\n",
      "Iteration: 190 - Loss:0.08334092433498988\n",
      "Iteration: 200 - Loss:0.08156379321594603\n",
      "Iteration: 210 - Loss:0.07994260276964917\n",
      "Iteration: 220 - Loss:0.07830623237461971\n",
      "Iteration: 230 - Loss:0.07659251924193565\n",
      "Iteration: 240 - Loss:0.07509321812134484\n",
      "Iteration: 250 - Loss:0.07366250615464451\n",
      "Iteration: 260 - Loss:0.07237754059184631\n",
      "Iteration: 270 - Loss:0.07124174109813457\n",
      "Iteration: 280 - Loss:0.07018305776406789\n",
      "Iteration: 290 - Loss:0.06921963239572497\n",
      "Iteration: 300 - Loss:0.06838153880476476\n"
     ]
    }
   ],
   "source": [
    "nn.fit(X_train,y_train,300)"
   ]
  },
  {
   "cell_type": "code",
   "execution_count": 10,
   "metadata": {},
   "outputs": [
    {
     "data": {
      "image/png": "[encoded data removed]",
      "text/plain": [
       "<Figure size 432x288 with 1 Axes>"
      ]
     },
     "metadata": {
      "needs_background": "light"
     },
     "output_type": "display_data"
    }
   ],
   "source": [
    "nn.display_loss()"
   ]
  },
  {
   "cell_type": "markdown",
   "metadata": {},
   "source": [
    "## Accuracy"
   ]
  },
  {
   "cell_type": "markdown",
   "metadata": {},
   "source": [
    "### Train Accuracy"
   ]
  },
  {
   "cell_type": "code",
   "execution_count": 11,
   "metadata": {},
   "outputs": [
    {
     "data": {
      "text/plain": [
       "95.49666666666667"
      ]
     },
     "execution_count": 11,
     "metadata": {},
     "output_type": "execute_result"
    }
   ],
   "source": [
    "nn.accuracy(X_train,y_train)"
   ]
  },
  {
   "cell_type": "markdown",
   "metadata": {},
   "source": [
    "### Test Accuracy"
   ]
  },
  {
   "cell_type": "code",
   "execution_count": 12,
   "metadata": {},
   "outputs": [
    {
     "data": {
      "text/plain": [
       "92.81"
      ]
     },
     "execution_count": 12,
     "metadata": {},
     "output_type": "execute_result"
    }
   ],
   "source": [
    "nn.accuracy(X_test,y_test)"
   ]
  }
 ],
 "metadata": {
  "kernelspec": {
   "display_name": "Python 3",
   "language": "python",
   "name": "python3"
  },
  "language_info": {
   "codemirror_mode": {
    "name": "ipython",
    "version": 3
   },
   "file_extension": ".py",
   "mimetype": "text/x-python",
   "name": "python",
   "nbconvert_exporter": "python",
   "pygments_lexer": "ipython3",
   "version": "3.7.4"
  }
 },
 "nbformat": 4,
 "nbformat_minor": 2
}
