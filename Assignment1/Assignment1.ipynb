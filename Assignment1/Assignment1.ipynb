{
 "cells": [
  {
   "cell_type": "code",
   "execution_count": 1,
   "metadata": {},
   "outputs": [],
   "source": [
    "import numpy as np\n",
    "np.random.seed(1)\n",
    "from scipy.special import softmax\n",
    "import seaborn as sns\n",
    "from matplotlib import pyplot as plt\n",
    "%matplotlib inline"
   ]
  },
  {
   "cell_type": "markdown",
   "metadata": {},
   "source": [
    "## Class for Logistic Neuron"
   ]
  },
  {
   "cell_type": "code",
   "execution_count": 2,
   "metadata": {},
   "outputs": [],
   "source": [
    "class Logistic_Neuron:\n",
    "    def __init__(self,input_dim, output_dim, batch_size, learning_rate):\n",
    "        self.learning_rate = learning_rate\n",
    "        self.batch_size = batch_size\n",
    "        \n",
    "        self.W = np.random.normal(0,1,size=(output_dim,input_dim))\n",
    "        self.b = np.zeros((output_dim,1))\n",
    "    \n",
    "    def fit(self,X, y, iterations):\n",
    "        self.loss_save = np.empty(iterations)\n",
    "        for i in range(iterations):\n",
    "            loss = 0\n",
    "            batches = int(X.shape[0]/self.batch_size)\n",
    "            for batch in range(batches):\n",
    "                X_batch = X[:,self.batch_size*batch:self.batch_size*(batch+1)]\n",
    "                y_batch = y[:,self.batch_size*batch:self.batch_size*(batch+1)]\n",
    "                \n",
    "                # forward propagation\n",
    "                Z = self.W@X_batch + self.b\n",
    "                A = softmax(Z,axis=0)\n",
    "                loss += np.mean(np.sum((A - y_batch)**2,axis=1))\n",
    "                \n",
    "                # backward propagation\n",
    "                dE_dA = A - y_batch\n",
    "                dA_dZ = A * (1 - A)\n",
    "                self.W = self.W - self.learning_rate*(dE_dA*dA_dZ)@X_batch.T/self.batch_size\n",
    "                self.b = self.b - self.learning_rate*np.sum((dE_dA*dA_dZ)@X_batch.T)/self.batch_size\n",
    "            \n",
    "            self.loss_save[i] = loss\n",
    "            \n",
    "            if (i+1)%100==0:\n",
    "                print('Iteration: {0} - Loss:{1}'.format(i+1,loss))\n",
    "                \n",
    "    def predict(self,X):\n",
    "        Z = self.W@X + self.b\n",
    "        return np.argmax(softmax(Z,axis=0),axis=0)\n",
    "    \n",
    "    def display_loss(self):\n",
    "        ax = sns.lineplot(data = self.loss_save)\n",
    "        ax.set(xlabel = \"Iterations\", ylabel=\"Loss\")\n",
    "        plt.show()\n",
    "        "
   ]
  },
  {
   "cell_type": "markdown",
   "metadata": {},
   "source": [
    "\n",
    "## Data set loading and preprocessing"
   ]
  },
  {
   "cell_type": "code",
   "execution_count": 3,
   "metadata": {},
   "outputs": [],
   "source": [
    "import torchvision.datasets as dsets\n",
    "import torchvision.transforms as transforms\n",
    "\n",
    "train_dataset= dsets.MNIST(root='./data',train=True,transform=np.asarray,download=True)\n",
    "test_dataset= dsets.MNIST(root='./data',train=False,transform=np.asarray,download=True)"
   ]
  },
  {
   "cell_type": "code",
   "execution_count": 4,
   "metadata": {},
   "outputs": [],
   "source": [
    "def one_hot_encoder(array):\n",
    "    shape = (array.max()+1,array.shape[0])\n",
    "    op_array = np.zeros(shape)\n",
    "    op_array[array,np.arange(shape[1])]=1\n",
    "    return op_array"
   ]
  },
  {
   "cell_type": "code",
   "execution_count": 5,
   "metadata": {},
   "outputs": [],
   "source": [
    "X_train = np.array(list(map(lambda x: x[0].flatten()/255.0,train_dataset))).T\n",
    "y_train = one_hot_encoder(np.array(list(map(lambda x: x[1],train_dataset))))\n",
    "\n",
    "X_test = np.array(list(map(lambda x: x[0].flatten()/255.0,test_dataset))).T\n",
    "y_test = one_hot_encoder(np.array(list(map(lambda x: x[1],test_dataset))))"
   ]
  },
  {
   "cell_type": "code",
   "execution_count": 6,
   "metadata": {},
   "outputs": [
    {
     "name": "stdout",
     "output_type": "stream",
     "text": [
      "Shape of data arrays: \n",
      "Train X:(784, 60000),\tTrain y:(10, 60000),\n",
      "Test x:(784, 10000),\tTest y :(10, 10000)\n"
     ]
    }
   ],
   "source": [
    "print('Shape of data arrays: \\nTrain X:{0},\\tTrain y:{1},\\nTest x:{2},\\tTest y :{3}'.format(X_train.shape,y_train.shape,X_test.shape,y_test.shape))"
   ]
  },
  {
   "cell_type": "markdown",
   "metadata": {},
   "source": [
    "## Training of 2-layer Network"
   ]
  },
  {
   "cell_type": "code",
   "execution_count": 7,
   "metadata": {},
   "outputs": [],
   "source": [
    "nn = Logistic_Neuron(X_train.shape[0],y_train.shape[0],20,1)"
   ]
  },
  {
   "cell_type": "code",
   "execution_count": 8,
   "metadata": {},
   "outputs": [
    {
     "name": "stdout",
     "output_type": "stream",
     "text": [
      "Iteration: 100 - Loss:6.066370073777998\n",
      "Iteration: 200 - Loss:2.4082548178619363\n",
      "Iteration: 300 - Loss:2.2352423880149797\n",
      "Iteration: 400 - Loss:1.3786663719705983\n",
      "Iteration: 500 - Loss:1.0698541175090237\n",
      "Iteration: 600 - Loss:1.0430340754745229\n",
      "Iteration: 700 - Loss:1.0325651110704606\n",
      "Iteration: 800 - Loss:1.0265303640087453\n",
      "Iteration: 900 - Loss:1.0225091264182666\n",
      "Iteration: 1000 - Loss:1.0196047044659804\n",
      "Iteration: 1100 - Loss:1.0173933102841208\n",
      "Iteration: 1200 - Loss:1.0156443921794982\n",
      "Iteration: 1300 - Loss:1.0142200929545082\n",
      "Iteration: 1400 - Loss:1.0130318572656871\n",
      "Iteration: 1500 - Loss:1.0120190353461387\n",
      "Iteration: 1600 - Loss:1.0111367548005095\n",
      "Iteration: 1700 - Loss:1.010346802118197\n",
      "Iteration: 1800 - Loss:1.0096036565953286\n",
      "Iteration: 1900 - Loss:1.008791046562507\n",
      "Iteration: 2000 - Loss:1.004479411309953\n",
      "Iteration: 2100 - Loss:0.8135149711073293\n",
      "Iteration: 2200 - Loss:0.8109035268124188\n",
      "Iteration: 2300 - Loss:0.8097358058694549\n",
      "Iteration: 2400 - Loss:0.8089299184287717\n",
      "Iteration: 2500 - Loss:0.8082875202406153\n",
      "Iteration: 2600 - Loss:0.8077109394862027\n",
      "Iteration: 2700 - Loss:0.8067624784977713\n",
      "Iteration: 2800 - Loss:0.6110343136184685\n",
      "Iteration: 2900 - Loss:0.6085305956297921\n",
      "Iteration: 3000 - Loss:0.6077044513956955\n"
     ]
    }
   ],
   "source": [
    "nn.fit(X_train,y_train,3000)"
   ]
  },
  {
   "cell_type": "code",
   "execution_count": 9,
   "metadata": {},
   "outputs": [
    {
     "data": {
      "image/png": "[encoded data removed]",
      "text/plain": [
       "<Figure size 432x288 with 1 Axes>"
      ]
     },
     "metadata": {
      "needs_background": "light"
     },
     "output_type": "display_data"
    }
   ],
   "source": [
    "nn.display_loss()"
   ]
  },
  {
   "cell_type": "markdown",
   "metadata": {},
   "source": [
    "## Accuracy"
   ]
  },
  {
   "cell_type": "code",
   "execution_count": 10,
   "metadata": {},
   "outputs": [
    {
     "data": {
      "text/plain": [
       "80.96"
      ]
     },
     "execution_count": 10,
     "metadata": {},
     "output_type": "execute_result"
    }
   ],
   "source": [
    "predictions = nn.predict(X_test)\n",
    "a = (predictions == y_test.argmax(axis=0)).sum()\n",
    "100*a/y_test.shape[1]"
   ]
  }
 ],
 "metadata": {
  "kernelspec": {
   "display_name": "Python 3",
   "language": "python",
   "name": "python3"
  },
  "language_info": {
   "codemirror_mode": {
    "name": "ipython",
    "version": 3
   },
   "file_extension": ".py",
   "mimetype": "text/x-python",
   "name": "python",
   "nbconvert_exporter": "python",
   "pygments_lexer": "ipython3",
   "version": "3.7.4"
  }
 },
 "nbformat": 4,
 "nbformat_minor": 2
}
