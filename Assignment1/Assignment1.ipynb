{
 "cells": [
  {
   "cell_type": "code",
   "execution_count": 1,
   "metadata": {},
   "outputs": [],
   "source": [
    "import numpy as np\n",
    "from scipy.special import softmax\n",
    "import seaborn as sns\n",
    "from matplotlib import pyplot as plt\n",
    "%matplotlib inline"
   ]
  },
  {
   "cell_type": "code",
   "execution_count": 2,
   "metadata": {},
   "outputs": [],
   "source": [
    "def sigmoid(x):\n",
    "    return 1/(1+np.exp(-x))"
   ]
  },
  {
   "cell_type": "markdown",
   "metadata": {},
   "source": [
    "## Class for Logistic Neuron"
   ]
  },
  {
   "cell_type": "code",
   "execution_count": 59,
   "metadata": {},
   "outputs": [],
   "source": [
    "class Logistic_Neuron:\n",
    "    def __init__(self,input_dim, output_dim,hidden_layer_dim, batch_size, learning_rate):\n",
    "        self.learning_rate = learning_rate\n",
    "        self.batch_size = batch_size\n",
    "        \n",
    "        # initialisation of weights\n",
    "        np.random.seed(15)\n",
    "        self.W1 = np.random.normal(0,1,size=(hidden_layer_dim,input_dim))\n",
    "        self.b1 = np.zeros((hidden_layer_dim,1))\n",
    "        self.W2 = np.random.normal(0,1,size=(output_dim,hidden_layer_dim))\n",
    "        self.b2 = np.zeros((output_dim,1))\n",
    "    \n",
    "    def fit(self,X, y, iterations):\n",
    "        self.loss_save = np.empty(iterations)\n",
    "        for i in range(iterations):\n",
    "            loss = 0\n",
    "            batches = int(X.shape[0]/self.batch_size)\n",
    "            for batch in range(batches):\n",
    "                X_batch = X[:,self.batch_size*batch:self.batch_size*(batch+1)]\n",
    "                y_batch = y[:,self.batch_size*batch:self.batch_size*(batch+1)]\n",
    "                \n",
    "                # forward propagation\n",
    "                Z1 = self.W1@X_batch + self.b1\n",
    "                A1 = sigmoid(Z1)\n",
    "                \n",
    "                Z2 = self.W2@A1 + self.b2\n",
    "                A2 = softmax(Z2,axis=0)\n",
    "                loss += np.mean(np.sum((A2 - y_batch)**2,axis=1))\n",
    "                \n",
    "                # backward propagation\n",
    "                dE_dA2 = A2 - y_batch\n",
    "                dA2_dZ2 = A2 * (1 - A2)\n",
    "                \n",
    "                dZ2_dA1 = self.W2.T\n",
    "                dA1_dZ1 = A1 * (1 - A1)\n",
    "                \n",
    "                self.W2 = self.W2 - self.learning_rate*(dE_dA2*dA2_dZ2)@A1.T/self.batch_size\n",
    "                self.b2 = self.b2 - self.learning_rate*np.sum((dE_dA2*dA2_dZ2)@A1.T)/self.batch_size\n",
    "\n",
    "                self.W1 = self.W1 - self.learning_rate*((dZ2_dA1@(dE_dA2*dA2_dZ2))*dA1_dZ1)@X_batch.T/self.batch_size\n",
    "                self.b1 = self.b1 - self.learning_rate*np.sum(((dZ2_dA1@(dE_dA2*dA2_dZ2))*dA1_dZ1)@X_batch.T)/self.batch_size\n",
    "            \n",
    "            self.loss_save[i] = loss\n",
    "            \n",
    "            if (i+1)%50==0:\n",
    "                # random shuffling after every 50 iterations\n",
    "                idx = np.arange(X.shape[1])\n",
    "                np.random.shuffle(idx)\n",
    "                X = X[:,idx]\n",
    "                y = y[:,idx]\n",
    "                if (i+1)%500==0:\n",
    "                    print('Iteration: {0} - Loss:{1}'.format(i+1,loss))\n",
    "                \n",
    "    def predict(self,X):\n",
    "        Z1 = self.W1@X + self.b1\n",
    "        A1 = sigmoid(Z1)\n",
    "        Z2 = self.W2@A1 + self.b2\n",
    "        return np.argmax(softmax(Z2,axis=0),axis=0)\n",
    "    \n",
    "    def display_loss(self):\n",
    "        ax = sns.lineplot(data = self.loss_save)\n",
    "        ax.set(xlabel = \"Iterations\", ylabel=\"Loss\")\n",
    "        plt.show()\n",
    "        "
   ]
  },
  {
   "cell_type": "markdown",
   "metadata": {},
   "source": [
    "\n",
    "## Data set loading and preprocessing"
   ]
  },
  {
   "cell_type": "code",
   "execution_count": 4,
   "metadata": {},
   "outputs": [],
   "source": [
    "import torchvision.datasets as dsets\n",
    "import torchvision.transforms as transforms\n",
    "\n",
    "train_dataset= dsets.MNIST(root='./data',train=True,transform=np.asarray,download=True)\n",
    "test_dataset= dsets.MNIST(root='./data',train=False,transform=np.asarray,download=True)"
   ]
  },
  {
   "cell_type": "code",
   "execution_count": 5,
   "metadata": {},
   "outputs": [],
   "source": [
    "def one_hot_encoder(array):\n",
    "    shape = (array.max()+1,array.shape[0])\n",
    "    op_array = np.zeros(shape)\n",
    "    op_array[array,np.arange(shape[1])]=1\n",
    "    return op_array"
   ]
  },
  {
   "cell_type": "code",
   "execution_count": 6,
   "metadata": {},
   "outputs": [],
   "source": [
    "X_train = np.array(list(map(lambda x: x[0].flatten()/255.0,train_dataset))).T\n",
    "y_train = one_hot_encoder(np.array(list(map(lambda x: x[1],train_dataset))))\n",
    "\n",
    "X_test = np.array(list(map(lambda x: x[0].flatten()/255.0,test_dataset))).T\n",
    "y_test = one_hot_encoder(np.array(list(map(lambda x: x[1],test_dataset))))"
   ]
  },
  {
   "cell_type": "code",
   "execution_count": 7,
   "metadata": {},
   "outputs": [
    {
     "name": "stdout",
     "output_type": "stream",
     "text": [
      "Shape of data arrays: \n",
      "Train X:(784, 60000),\tTrain y:(10, 60000),\n",
      "Test x:(784, 10000),\tTest y :(10, 10000)\n"
     ]
    }
   ],
   "source": [
    "print('Shape of data arrays: \\nTrain X:{0},\\tTrain y:{1},\\nTest x:{2},\\tTest y :{3}'.format(X_train.shape,y_train.shape,X_test.shape,y_test.shape))"
   ]
  },
  {
   "cell_type": "markdown",
   "metadata": {},
   "source": [
    "## Training of 2-layer Network"
   ]
  },
  {
   "cell_type": "code",
   "execution_count": 60,
   "metadata": {},
   "outputs": [],
   "source": [
    "nn = Logistic_Neuron(X_train.shape[0],y_train.shape[0],40,20,0.1)"
   ]
  },
  {
   "cell_type": "code",
   "execution_count": 61,
   "metadata": {},
   "outputs": [
    {
     "name": "stdout",
     "output_type": "stream",
     "text": [
      "Iteration: 500 - Loss:17.91321574957705\n",
      "Iteration: 1000 - Loss:14.752742672763674\n",
      "Iteration: 1500 - Loss:12.241383392316745\n",
      "Iteration: 2000 - Loss:12.240290218413511\n",
      "Iteration: 2500 - Loss:10.494466529760421\n",
      "Iteration: 3000 - Loss:8.259746438986912\n",
      "Iteration: 3500 - Loss:8.341707411859637\n",
      "Iteration: 4000 - Loss:6.022671552659258\n",
      "Iteration: 4500 - Loss:7.365610052205258\n",
      "Iteration: 5000 - Loss:7.555222875719051\n",
      "Iteration: 5500 - Loss:6.989705245356395\n",
      "Iteration: 6000 - Loss:7.186537403719141\n",
      "Iteration: 6500 - Loss:4.8193391198952575\n",
      "Iteration: 7000 - Loss:4.449560346212184\n",
      "Iteration: 7500 - Loss:5.681133447889335\n",
      "Iteration: 8000 - Loss:5.4383465611753685\n",
      "Iteration: 8500 - Loss:5.907531971800809\n",
      "Iteration: 9000 - Loss:6.029792383285096\n",
      "Iteration: 9500 - Loss:4.920433144037727\n",
      "Iteration: 10000 - Loss:5.716782151381777\n"
     ]
    }
   ],
   "source": [
    "nn.fit(X_train,y_train,10000)"
   ]
  },
  {
   "cell_type": "code",
   "execution_count": 62,
   "metadata": {},
   "outputs": [
    {
     "data": {
      "image/png": "[encoded data removed]",
      "text/plain": [
       "<Figure size 432x288 with 1 Axes>"
      ]
     },
     "metadata": {
      "needs_background": "light"
     },
     "output_type": "display_data"
    }
   ],
   "source": [
    "nn.display_loss()"
   ]
  },
  {
   "cell_type": "markdown",
   "metadata": {},
   "source": [
    "## Accuracy"
   ]
  },
  {
   "cell_type": "code",
   "execution_count": 63,
   "metadata": {},
   "outputs": [
    {
     "data": {
      "text/plain": [
       "92.83"
      ]
     },
     "execution_count": 63,
     "metadata": {},
     "output_type": "execute_result"
    }
   ],
   "source": [
    "predictions = nn.predict(X_test)\n",
    "a = (predictions == y_test.argmax(axis=0)).sum()\n",
    "100*a/y_test.shape[1]"
   ]
  }
 ],
 "metadata": {
  "kernelspec": {
   "display_name": "Python 3",
   "language": "python",
   "name": "python3"
  },
  "language_info": {
   "codemirror_mode": {
    "name": "ipython",
    "version": 3
   },
   "file_extension": ".py",
   "mimetype": "text/x-python",
   "name": "python",
   "nbconvert_exporter": "python",
   "pygments_lexer": "ipython3",
   "version": "3.7.4"
  }
 },
 "nbformat": 4,
 "nbformat_minor": 2
}
