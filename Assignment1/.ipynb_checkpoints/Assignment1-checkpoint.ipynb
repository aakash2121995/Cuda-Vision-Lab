{
 "cells": [
  {
   "cell_type": "code",
   "execution_count": 1,
   "metadata": {},
   "outputs": [],
   "source": [
    "import numpy as np\n",
    "from scipy.special import softmax\n",
    "import seaborn as sns\n",
    "from matplotlib import pyplot as plt\n",
    "%matplotlib inline"
   ]
  },
  {
   "cell_type": "code",
   "execution_count": 2,
   "metadata": {},
   "outputs": [],
   "source": [
    "def sigmoid(x):\n",
    "    return 1/(1+np.exp(-x))"
   ]
  },
  {
   "cell_type": "markdown",
   "metadata": {},
   "source": [
    "## Class for Logistic Classification"
   ]
  },
  {
   "cell_type": "code",
   "execution_count": 3,
   "metadata": {},
   "outputs": [],
   "source": [
    "class Logistic_Network:\n",
    "    def __init__(self,input_dim, output_dim,hidden_layer_dim, batch_size, learning_rate):\n",
    "        self.learning_rate = learning_rate\n",
    "        self.batch_size = batch_size\n",
    "        \n",
    "        # initialisation of weights\n",
    "        np.random.seed(2121995)\n",
    "        self.W1 = np.random.normal(0,1,size=(hidden_layer_dim,input_dim))\n",
    "        self.b1 = np.zeros((hidden_layer_dim,1))\n",
    "        self.W2 = np.random.normal(0,1,size=(output_dim,hidden_layer_dim))\n",
    "        self.b2 = np.zeros((output_dim,1))\n",
    "    \n",
    "    def fit(self,X, y, iterations):\n",
    "        self.loss_save = np.empty(iterations)\n",
    "        \n",
    "        idx = np.arange(X.shape[1])\n",
    "        for i in range(iterations):\n",
    "            loss = 0\n",
    "            batches = int(X.shape[0]/self.batch_size)\n",
    "            for batch in range(batches):\n",
    "                X_batch = X[:,self.batch_size*batch:self.batch_size*(batch+1)]\n",
    "                y_batch = y[:,self.batch_size*batch:self.batch_size*(batch+1)]\n",
    "                \n",
    "                # forward propagation\n",
    "                Z1 = self.W1@X_batch + self.b1\n",
    "                A1 = sigmoid(Z1)\n",
    "                \n",
    "                Z2 = self.W2@A1 + self.b2\n",
    "                A2 = softmax(Z2,axis=0)\n",
    "                loss += np.mean(np.sum((A2 - y_batch)**2,axis=0))\n",
    "                \n",
    "                # backward propagation\n",
    "                dE_dA2 = A2 - y_batch\n",
    "                dA2_dZ2 = A2 * (1 - A2)\n",
    "                \n",
    "                dZ2_dA1 = self.W2.T\n",
    "                dA1_dZ1 = A1 * (1 - A1)\n",
    "                \n",
    "                self.W2 = self.W2 - self.learning_rate*(dE_dA2*dA2_dZ2)@A1.T/self.batch_size\n",
    "                self.b2 = self.b2 - self.learning_rate*np.sum((dE_dA2*dA2_dZ2)@A1.T)/self.batch_size\n",
    "\n",
    "                self.W1 = self.W1 - self.learning_rate*((dZ2_dA1@(dE_dA2*dA2_dZ2))*dA1_dZ1)@X_batch.T/self.batch_size\n",
    "                self.b1 = self.b1 - self.learning_rate*np.sum(((dZ2_dA1@(dE_dA2*dA2_dZ2))*dA1_dZ1)@X_batch.T)/self.batch_size\n",
    "            \n",
    "            self.loss_save[i] = loss\n",
    "            if (i+1)%50==0:\n",
    "                # random shuffling after every 50 iterations\n",
    "                np.random.shuffle(idx)\n",
    "                X = X[:,idx]\n",
    "                y = y[:,idx]\n",
    "                if (i+1)%500==0:\n",
    "                    np.set_printoptions(precision=2)\n",
    "                    print('Iteration: {0} - Loss:{1}'.format(i+1,loss))\n",
    "                \n",
    "    def predict(self,X):\n",
    "        Z1 = self.W1@X + self.b1\n",
    "        A1 = sigmoid(Z1)\n",
    "        Z2 = self.W2@A1 + self.b2\n",
    "        return np.argmax(softmax(Z2,axis=0),axis=0)\n",
    "    \n",
    "    def accuracy(self,X,y):\n",
    "        y_pred = self.predict(X)\n",
    "        a = (y_pred == y.argmax(axis=0)).sum()\n",
    "        return 100*a/y.shape[1]\n",
    "    \n",
    "    def display_loss(self):\n",
    "        ax = sns.lineplot(data = self.loss_save)\n",
    "        ax.set(xlabel = \"Iterations\", ylabel=\"Loss\")\n",
    "        plt.show()\n",
    "        "
   ]
  },
  {
   "cell_type": "markdown",
   "metadata": {},
   "source": [
    "\n",
    "## Data set loading and preprocessing"
   ]
  },
  {
   "cell_type": "code",
   "execution_count": 4,
   "metadata": {},
   "outputs": [],
   "source": [
    "import torchvision.datasets as dsets\n",
    "import torchvision.transforms as transforms\n",
    "\n",
    "train_dataset= dsets.MNIST(root='./data',train=True,transform=np.asarray,download=True)\n",
    "test_dataset= dsets.MNIST(root='./data',train=False,transform=np.asarray,download=True)"
   ]
  },
  {
   "cell_type": "code",
   "execution_count": 5,
   "metadata": {},
   "outputs": [],
   "source": [
    "def one_hot_encoder(array):\n",
    "    shape = (array.max()+1,array.shape[0])\n",
    "    op_array = np.zeros(shape)\n",
    "    op_array[array,np.arange(shape[1])]=1\n",
    "    return op_array"
   ]
  },
  {
   "cell_type": "code",
   "execution_count": 6,
   "metadata": {},
   "outputs": [],
   "source": [
    "X_train = np.array(list(map(lambda x: x[0].flatten()/255.0,train_dataset))).T\n",
    "y_train = one_hot_encoder(np.array(list(map(lambda x: x[1],train_dataset))))\n",
    "\n",
    "X_test = np.array(list(map(lambda x: x[0].flatten()/255.0,test_dataset))).T\n",
    "y_test = one_hot_encoder(np.array(list(map(lambda x: x[1],test_dataset))))"
   ]
  },
  {
   "cell_type": "code",
   "execution_count": 7,
   "metadata": {},
   "outputs": [
    {
     "name": "stdout",
     "output_type": "stream",
     "text": [
      "Shape of data arrays: \n",
      "Train X:(784, 60000),\tTrain y:(10, 60000),\n",
      "Test x:(784, 10000),\tTest y :(10, 10000)\n"
     ]
    }
   ],
   "source": [
    "print('Shape of data arrays: \\nTrain X:{0},\\tTrain y:{1},\\nTest x:{2},\\tTest y :{3}'.format(X_train.shape,y_train.shape,X_test.shape,y_test.shape))"
   ]
  },
  {
   "cell_type": "markdown",
   "metadata": {},
   "source": [
    "## Training of 2-layer Network"
   ]
  },
  {
   "cell_type": "code",
   "execution_count": 8,
   "metadata": {},
   "outputs": [],
   "source": [
    "nn = Logistic_Network(X_train.shape[0],y_train.shape[0],50,20,0.3)"
   ]
  },
  {
   "cell_type": "code",
   "execution_count": 9,
   "metadata": {},
   "outputs": [
    {
     "name": "stdout",
     "output_type": "stream",
     "text": [
      "Iteration: 500 - Loss:5.982162838520848\n",
      "Iteration: 1000 - Loss:4.866408459966904\n",
      "Iteration: 1500 - Loss:4.085909994809017\n",
      "Iteration: 2000 - Loss:3.745279257043869\n",
      "Iteration: 2500 - Loss:2.9263039816613947\n",
      "Iteration: 3000 - Loss:3.249929433240752\n",
      "Iteration: 3500 - Loss:3.177216583367639\n",
      "Iteration: 4000 - Loss:2.3424867809570844\n",
      "Iteration: 4500 - Loss:2.039726718164336\n",
      "Iteration: 5000 - Loss:2.1537198043004424\n",
      "Iteration: 5500 - Loss:1.6670832779423204\n",
      "Iteration: 6000 - Loss:2.357182656469935\n",
      "Iteration: 6500 - Loss:2.4850552578064047\n",
      "Iteration: 7000 - Loss:2.239414966982198\n",
      "Iteration: 7500 - Loss:2.818477704761\n",
      "Iteration: 8000 - Loss:2.046326990726936\n",
      "Iteration: 8500 - Loss:1.9616765429618293\n",
      "Iteration: 9000 - Loss:1.8884919401758142\n",
      "Iteration: 9500 - Loss:1.8723373945389055\n",
      "Iteration: 10000 - Loss:2.164440822462431\n"
     ]
    }
   ],
   "source": [
    "nn.fit(X_train,y_train,10000)"
   ]
  },
  {
   "cell_type": "code",
   "execution_count": 10,
   "metadata": {},
   "outputs": [
    {
     "data": {
      "image/png": "[encoded data removed]",
      "text/plain": [
       "<Figure size 432x288 with 1 Axes>"
      ]
     },
     "metadata": {
      "needs_background": "light"
     },
     "output_type": "display_data"
    }
   ],
   "source": [
    "nn.display_loss()"
   ]
  },
  {
   "cell_type": "markdown",
   "metadata": {},
   "source": [
    "## Accuracy"
   ]
  },
  {
   "cell_type": "markdown",
   "metadata": {},
   "source": [
    "### Train Accuracy"
   ]
  },
  {
   "cell_type": "code",
   "execution_count": 11,
   "metadata": {},
   "outputs": [
    {
     "data": {
      "text/plain": [
       "93.40333333333334"
      ]
     },
     "execution_count": 11,
     "metadata": {},
     "output_type": "execute_result"
    }
   ],
   "source": [
    "nn.accuracy(X_train,y_train)"
   ]
  },
  {
   "cell_type": "markdown",
   "metadata": {},
   "source": [
    "### Test Accuracy"
   ]
  },
  {
   "cell_type": "code",
   "execution_count": 12,
   "metadata": {},
   "outputs": [
    {
     "data": {
      "text/plain": [
       "92.48"
      ]
     },
     "execution_count": 12,
     "metadata": {},
     "output_type": "execute_result"
    }
   ],
   "source": [
    "nn.accuracy(X_test,y_test)"
   ]
  }
 ],
 "metadata": {
  "kernelspec": {
   "display_name": "Python 3",
   "language": "python",
   "name": "python3"
  },
  "language_info": {
   "codemirror_mode": {
    "name": "ipython",
    "version": 3
   },
   "file_extension": ".py",
   "mimetype": "text/x-python",
   "name": "python",
   "nbconvert_exporter": "python",
   "pygments_lexer": "ipython3",
   "version": "3.7.4"
  }
 },
 "nbformat": 4,
 "nbformat_minor": 2
}
