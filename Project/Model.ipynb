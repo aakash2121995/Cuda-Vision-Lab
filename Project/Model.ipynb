{
 "cells": [
  {
   "cell_type": "code",
   "execution_count": 13,
   "metadata": {},
   "outputs": [],
   "source": [
    "import torch\n",
    "import torch.nn as nn\n",
    "from torchvision import transforms,models\n",
    "from torchvision.models.resnet import ResNet, BasicBlock"
   ]
  },
  {
   "cell_type": "code",
   "execution_count": 14,
   "metadata": {},
   "outputs": [],
   "source": [
    "WIDTH = 640\n",
    "HEIGHT = 480"
   ]
  },
  {
   "cell_type": "code",
   "execution_count": 15,
   "metadata": {},
   "outputs": [],
   "source": [
    "def Conv1x1(in_planes, out_planes, stride=1):\n",
    "    return nn.Conv2d(in_planes, out_planes, kernel_size=1, stride=stride, bias=False)"
   ]
  },
  {
   "cell_type": "code",
   "execution_count": 16,
   "metadata": {},
   "outputs": [],
   "source": [
    "def ConvTrans2x2(in_planes, out_planes):\n",
    "    return nn.ConvTranspose2d(in_planes, out_planes, kernel_size=2, stride=2, bias=False)"
   ]
  },
  {
   "cell_type": "code",
   "execution_count": 17,
   "metadata": {},
   "outputs": [],
   "source": [
    "def ReLU_BN(in_planes):\n",
    "    return nn.Sequential(nn.ReLU(),nn.BatchNorm2d(in_planes))"
   ]
  },
  {
   "cell_type": "code",
   "execution_count": 18,
   "metadata": {},
   "outputs": [],
   "source": [
    "class NimbroNet18(ResNet):\n",
    "    def __init__(self):\n",
    "        super(NimbroNet18,self).__init__(BasicBlock,[2,2,2,2])\n",
    "        state_dict = models.utils.load_state_dict_from_url('https://download.pytorch.org/models/resnet18-5c106cde.pth',\n",
    "                                              progress=True)\n",
    "        self.load_state_dict(state_dict)\n",
    "        del self.avgpool\n",
    "        del self.fc\n",
    "        for name, child in self.named_children():\n",
    "            for name2, params in child.named_parameters():\n",
    "                params.requires_grad = False\n",
    "                \n",
    "        self.conv_1_1x1 = Conv1x1(64,128)\n",
    "        self.conv_2_1x1 = Conv1x1(128,256)\n",
    "        self.conv_3_1x1 = Conv1x1(256,256)\n",
    "        \n",
    "        self.relu1 = nn.ReLU()\n",
    "        self.conv_trans1 = ConvTrans2x2(512,256)\n",
    "        \n",
    "        self.relu_bn1 = ReLU_BN(512)\n",
    "        self.conv_trans2 = ConvTrans2x2(512,256)\n",
    "        \n",
    "        self.relu_bn2 = ReLU_BN(512)\n",
    "        self.conv_trans3 = ConvTrans2x2(512,128)\n",
    "        \n",
    "        self.relu_bn3 = ReLU_BN(256)\n",
    "        \n",
    "        self.conv_4_1x1 = Conv1x1(256,3)\n",
    "        \n",
    "        self.conv_5_1x1 = Conv1x1(256,3)\n",
    "        \n",
    "        self.loc_dep_bias = nn.Parameter(torch.randn((1,3,HEIGHT//4,WIDTH//4),requires_grad=True))\n",
    "        \n",
    "        \n",
    "    def forward(self,x):\n",
    "        x = self.conv1(x)\n",
    "        x = self.bn1(x)\n",
    "        x = self.relu(x)\n",
    "        x = self.maxpool(x)\n",
    "        \n",
    "        x1 = self.layer1(x)\n",
    "        x2 = self.layer2(x1)\n",
    "        x3 = self.layer3(x2)\n",
    "        x4 = self.layer4(x3)\n",
    "        \n",
    "        x1 = self.conv_1_1x1(x1)\n",
    "        x2 = self.conv_2_1x1(x2)\n",
    "        x3 = self.conv_3_1x1(x3)\n",
    "        \n",
    "        x4 = self.relu1(x4)\n",
    "        x4 = self.conv_trans1(x4)\n",
    "        \n",
    "        x4_x3 = torch.cat((x3,x4),1)\n",
    "        \n",
    "        x4_x3 = self.relu_bn1(x4_x3)\n",
    "        x4_x3 = self.conv_trans2(x4_x3)\n",
    "        \n",
    "        x4_x3_x2 = torch.cat((x4_x3,x2),1)\n",
    "        \n",
    "        x4_x3_x2 = self.relu_bn2(x4_x3_x2)\n",
    "        x4_x3_x2 = self.conv_trans3(x4_x3_x2)\n",
    "        \n",
    "        x4_x3_x2_x1 = torch.cat((x4_x3_x2,x1),1)\n",
    "        \n",
    "        x4_x3_x2_x1 = self.relu_bn3(x4_x3_x2_x1)\n",
    "        \n",
    "        if torch.cuda.is_available():\n",
    "            seg = self.conv_4_1x1(x4_x3_x2_x1) + self.loc_dep_bias.cuda()\n",
    "            blobs = self.conv_5_1x1(x4_x3_x2_x1) + self.loc_dep_bias.cuda()\n",
    "        else:\n",
    "            seg = self.conv_4_1x1(x4_x3_x2_x1) + self.loc_dep_bias\n",
    "            blobs = self.conv_5_1x1(x4_x3_x2_x1) + self.loc_dep_bias\n",
    "        \n",
    "        return seg,blobs\n",
    "        "
   ]
  }
 ],
 "metadata": {
  "kernelspec": {
   "display_name": "Python 3",
   "language": "python",
   "name": "python3"
  },
  "language_info": {
   "codemirror_mode": {
    "name": "ipython",
    "version": 3
   },
   "file_extension": ".py",
   "mimetype": "text/x-python",
   "name": "python",
   "nbconvert_exporter": "python",
   "pygments_lexer": "ipython3",
   "version": "3.7.4"
  }
 },
 "nbformat": 4,
 "nbformat_minor": 2
}
