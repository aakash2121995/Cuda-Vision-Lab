{
 "cells": [
  {
   "cell_type": "code",
   "execution_count": 1,
   "metadata": {},
   "outputs": [],
   "source": [
    "import torch\n",
    "from torch.utils.data import DataLoader,Dataset,ConcatDataset\n",
    "import glob\n",
    "from PIL import Image\n",
    "import torchvision.transforms.functional as TF\n",
    "import xml.etree.ElementTree as ET\n",
    "import numpy as np\n",
    "from torchvision import transforms"
   ]
  },
  {
   "cell_type": "code",
   "execution_count": 2,
   "metadata": {},
   "outputs": [],
   "source": [
    "class NimbroSegmentDataset(Dataset):\n",
    "    def __init__(self,image_dir,image_size):\n",
    "        self.input_files = glob.glob(image_dir+'image/*.*')\n",
    "        self.normalize = transforms.Normalize(mean=[0.485, 0.456, 0.406],std=[0.229, 0.224, 0.225])\n",
    "        self.resize_inp = transforms.Compose([transforms.ToPILImage(),transforms.Resize(image_size),transforms.ToTensor()])\n",
    "        self.resize_op = transforms.Compose([transforms.ToPILImage(),transforms.Resize((image_size[0]//4,image_size[1]//4)),transforms.ToTensor()])\n",
    "        self.data = [ i for i in range(len(self.input_files))]\n",
    "    def __getitem__(self,index):\n",
    "        f = self.input_files[index]\n",
    "\n",
    "        if type(self.data[index]) != int:\n",
    "            target_ = self.data[index]\n",
    "        else:\n",
    "            target_path = f.replace('image','target').replace('jpg','png')\n",
    "            target = Image.open(target_path)\n",
    "            target_single_channel = TF.to_tensor(target)\n",
    "            target_single_channel = self.resize_op(target_single_channel)\n",
    "\n",
    "\n",
    "            target_ = torch.zeros_like(target_single_channel)\n",
    "            target_[target_single_channel.min() == target_single_channel] = 0\n",
    "\n",
    "            target_[(target_single_channel.min() < target_single_channel) & (target_single_channel.max() > target_single_channel)] = 2\n",
    "\n",
    "            target_[target_single_channel.max() == target_single_channel] = 1\n",
    "            target_ = target_.squeeze()\n",
    "#             target = torch.stack([target_0.squeeze(),target_1.squeeze(),target_2.squeeze()])\n",
    "            self.data[index] = target_\n",
    "\n",
    "\n",
    "        x = Image.open(f)\n",
    "        x = TF.to_tensor(x)     \n",
    "        x = self.resize_inp(x)\n",
    "        x = self.normalize(x)\n",
    "        \n",
    "        return x,target_\n",
    "    def __len__(self):\n",
    "        return len(self.input_files)"
   ]
  }
 ],
 "metadata": {
  "kernelspec": {
   "display_name": "Python 3",
   "language": "python",
   "name": "python3"
  },
  "language_info": {
   "codemirror_mode": {
    "name": "ipython",
    "version": 3
   },
   "file_extension": ".py",
   "mimetype": "text/x-python",
   "name": "python",
   "nbconvert_exporter": "python",
   "pygments_lexer": "ipython3",
   "version": "3.7.4"
  }
 },
 "nbformat": 4,
 "nbformat_minor": 2
}
