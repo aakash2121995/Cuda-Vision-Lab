{
 "cells": [
  {
   "cell_type": "code",
   "execution_count": 21,
   "metadata": {},
   "outputs": [],
   "source": [
    "import torch\n",
    "from torch.utils.data import DataLoader,Dataset,ConcatDataset\n",
    "import glob\n",
    "from PIL import Image\n",
    "import torchvision.transforms.functional as TF\n",
    "import xml.etree.ElementTree as ET\n",
    "import numpy as np\n",
    "from torchvision import transforms"
   ]
  },
  {
   "cell_type": "code",
   "execution_count": 22,
   "metadata": {},
   "outputs": [],
   "source": [
    "class NimbroSegmentDataset(Dataset):\n",
    "    def __init__(self,image_dir,image_size):\n",
    "        \n",
    "        # loading input image paths\n",
    "        self.input_files = glob.glob(image_dir+'image/*.*')\n",
    "        \n",
    "        # transforms for normailsation and resize\n",
    "        self.normalize = transforms.Normalize(mean=[0.485, 0.456, 0.406],std=[0.229, 0.224, 0.225])\n",
    "        self.resize_inp = transforms.Compose([transforms.ToPILImage(),transforms.Resize(image_size),transforms.ToTensor()])\n",
    "        self.resize_op = transforms.Compose([transforms.ToPILImage(),\n",
    "                                             transforms.Resize((image_size[0]//4,image_size[1]//4),interpolation=Image.NEAREST),\n",
    "                                             transforms.ToTensor()])\n",
    "        \n",
    "        # cache for saving target files\n",
    "        self.data = [ i for i in range(len(self.input_files))]\n",
    "        \n",
    "    def __getitem__(self,index):\n",
    "        f = self.input_files[index]\n",
    "        \n",
    "        # if file is present in cache\n",
    "        if type(self.data[index]) != int:\n",
    "            target_ = self.data[index]\n",
    "        else:\n",
    "            target_path = f.replace('image','target').replace('jpg','png')\n",
    "            target = Image.open(target_path)\n",
    "            target = TF.to_tensor(target)\n",
    "            target = self.resize_op(target)\n",
    "            \n",
    "            # extracting unique values from the tensor \n",
    "            unique_vals = target.unique()\n",
    "            unique_vals.sort()\n",
    "            \n",
    "            # assuming everything to be field\n",
    "            target_ = torch.ones_like(target)\n",
    "            \n",
    "            # line values come 2nd from the end \n",
    "            target_[target == unique_vals[-2]] = 2\n",
    "            \n",
    "            # smallest value is for background\n",
    "            target_[target == unique_vals[0]] = 0\n",
    "            \n",
    "            target_ = target_.squeeze()\n",
    "            self.data[index] = target_ # saving the image in cache\n",
    "\n",
    "\n",
    "        x = Image.open(f)\n",
    "        x = TF.to_tensor(x)     \n",
    "        x = self.resize_inp(x)\n",
    "        x = self.normalize(x)\n",
    "        \n",
    "        return x,target_\n",
    "    def __len__(self):\n",
    "        return len(self.input_files)"
   ]
  }
 ],
 "metadata": {
  "kernelspec": {
   "display_name": "Python 3",
   "language": "python",
   "name": "python3"
  },
  "language_info": {
   "codemirror_mode": {
    "name": "ipython",
    "version": 3
   },
   "file_extension": ".py",
   "mimetype": "text/x-python",
   "name": "python",
   "nbconvert_exporter": "python",
   "pygments_lexer": "ipython3",
   "version": "3.7.4"
  }
 },
 "nbformat": 4,
 "nbformat_minor": 2
}
