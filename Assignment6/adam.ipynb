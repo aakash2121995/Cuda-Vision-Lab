{
 "cells": [
  {
   "cell_type": "code",
   "execution_count": 4,
   "metadata": {},
   "outputs": [],
   "source": [
    "import torch.nn as nn\n",
    "import numpy as np"
   ]
  },
  {
   "cell_type": "code",
   "execution_count": null,
   "metadata": {},
   "outputs": [],
   "source": [
    "class Adam():\n",
    "    def __init__(self,params,lr,batch_size, t):\n",
    "        super(Decoder,self).__init__()\n",
    "        self.beta1 = 0.9\n",
    "        self.beta2 = 0.999\n",
    "        self.eps_stable = 1e-8\n",
    "        self.params = params\n",
    "        self.lr = lr\n",
    "        self.batch_size = batch_size\n",
    "        self.t = t\n",
    "        self.vs = []\n",
    "        self.sqrs = []\n",
    "        for param in self.params:\n",
    "            self.vs.append(param.zeros_like())\n",
    "            self.sqrs.append(param.zeros_like())\n",
    "    def step(self):\n",
    "        for param, v, sqr in zip(self.params, self.vs, self.sqrs):\n",
    "            g = param.grad / batch_size\n",
    "\n",
    "            v = self.beta1 * v + (1. - self.beta1) * g\n",
    "            sqr = self.beta2 * sqr + (1. - self.beta2) * np.square(g)\n",
    "\n",
    "            v_bias_corr = v / (1. - self.beta1 ** t)\n",
    "            sqr_bias_corr = sqr / (1. - self.beta2 ** t)\n",
    "\n",
    "            div = lr * v_bias_corr / (np.sqrt(sqr_bias_corr) + eps_stable)\n",
    "            param = param - div"
   ]
  },
  {
   "cell_type": "code",
   "execution_count": null,
   "metadata": {},
   "outputs": [],
   "source": []
  }
 ],
 "metadata": {
  "kernelspec": {
   "display_name": "Python 3",
   "language": "python",
   "name": "python3"
  },
  "language_info": {
   "codemirror_mode": {
    "name": "ipython",
    "version": 3
   },
   "file_extension": ".py",
   "mimetype": "text/x-python",
   "name": "python",
   "nbconvert_exporter": "python",
   "pygments_lexer": "ipython3",
   "version": "3.7.4"
  }
 },
 "nbformat": 4,
 "nbformat_minor": 2
}
