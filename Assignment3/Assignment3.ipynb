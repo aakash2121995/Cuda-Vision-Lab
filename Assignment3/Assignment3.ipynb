{
 "cells": [
  {
   "cell_type": "code",
   "execution_count": 2,
   "metadata": {},
   "outputs": [],
   "source": [
    "import torch\n",
    "import torch.nn as nn\n",
    "import torchvision.transforms as transforms\n",
    "import torchvision.datasets as dsets\n",
    "import random as rand\n",
    "%matplotlib inline\n",
    "import matplotlib.pyplot as plt \n",
    "import numpy as np\n",
    "import seaborn as sns\n",
    "from sklearn.metrics import confusion_matrix"
   ]
  },
  {
   "cell_type": "code",
   "execution_count": 3,
   "metadata": {},
   "outputs": [],
   "source": [
    "from hyperopt import fmin, tpe, hp, STATUS_OK, Trials\n",
    "from sklearn.model_selection import cross_val_score"
   ]
  },
  {
   "cell_type": "code",
   "execution_count": 4,
   "metadata": {},
   "outputs": [
    {
     "name": "stdout",
     "output_type": "stream",
     "text": [
      "Files already downloaded and verified\n",
      "Files already downloaded and verified\n"
     ]
    }
   ],
   "source": [
    "trainset = dsets.CIFAR10('./data', train=True, download=True, transform=transforms.ToTensor())\n",
    "testset = dsets.CIFAR10('./data', train=False, download=True, transform=transforms.ToTensor())"
   ]
  },
  {
   "cell_type": "code",
   "execution_count": 5,
   "metadata": {},
   "outputs": [
    {
     "name": "stdout",
     "output_type": "stream",
     "text": [
      "cuda\n"
     ]
    }
   ],
   "source": [
    "if torch.cuda.is_available():\n",
    "    avDev = torch.device(\"cuda\")\n",
    "else:\n",
    "    avDev = torch.device(\"cpu\")\n",
    "\n",
    "print(avDev)"
   ]
  },
  {
   "cell_type": "code",
   "execution_count": 6,
   "metadata": {},
   "outputs": [],
   "source": [
    "torch.manual_seed(1)\n",
    "np.random.seed(1)"
   ]
  },
  {
   "cell_type": "code",
   "execution_count": 7,
   "metadata": {},
   "outputs": [
    {
     "data": {
      "text/plain": [
       "50000"
      ]
     },
     "execution_count": 7,
     "metadata": {},
     "output_type": "execute_result"
    }
   ],
   "source": [
    "len(trainset)"
   ]
  },
  {
   "cell_type": "code",
   "execution_count": 8,
   "metadata": {},
   "outputs": [],
   "source": [
    "# STEP 2: MAKING DATASET ITERABLE\n",
    " \n",
    "batch_size = 500\n",
    "n_iters = 5000\n",
    "num_epochs = n_iters / (len(trainset) / batch_size)\n",
    "num_epochs = int(num_epochs)\n",
    " \n",
    "train_loader = torch.utils.data.DataLoader(dataset=trainset, \n",
    "                                           batch_size=batch_size, \n",
    "                                           shuffle=True)\n",
    " \n",
    "test_loader = torch.utils.data.DataLoader(dataset=testset, \n",
    "                                          batch_size=len(testset), \n",
    "                                          shuffle=False)\n",
    " "
   ]
  },
  {
   "cell_type": "code",
   "execution_count": 9,
   "metadata": {},
   "outputs": [],
   "source": [
    "'''\n",
    "STEP 3: CREATE MODEL CLASS\n",
    "'''\n",
    "class LogisticRegressionModel(nn.Module):\n",
    "    def __init__(self, input_dim, output_dim, activation_fn):\n",
    "        super(LogisticRegressionModel, self).__init__()\n",
    "        self.linear1 = nn.Linear(input_dim, 3000)\n",
    "        self.linear1_drop = nn.Dropout(0.2)\n",
    "        self.linear2 = nn.Linear(3000, 3000)\n",
    "        self.linear2_drop = nn.Dropout(0.2)\n",
    "        self.linear3 = nn.Linear(3000, output_dim)\n",
    "        self.activation_fn = activation_fn\n",
    "     \n",
    "    def forward(self, x):\n",
    "        out = self.activation_fn(self.linear1(x))\n",
    "        layer1_out = self.linear1_drop(out)\n",
    "        out = self.activation_fn(self.linear2(layer1_out))\n",
    "        layer2_out = self.linear2_drop(out)\n",
    "        out = self.linear3(layer2_out)\n",
    "        return out\n",
    "    "
   ]
  },
  {
   "cell_type": "code",
   "execution_count": 10,
   "metadata": {},
   "outputs": [],
   "source": [
    "'''\n",
    "STEP 5: INSTANTIATE LOSS CLASS\n",
    "'''\n",
    "criterion = nn.CrossEntropyLoss().to(avDev)\n"
   ]
  },
  {
   "cell_type": "code",
   "execution_count": 11,
   "metadata": {},
   "outputs": [],
   "source": [
    "def hinge_loss(outputs, labels):\n",
    "    margins = np.maximum(0, outputs-labels +1)\n",
    "    loss = np.sum(margins)\n",
    "    return loss\n",
    "    "
   ]
  },
  {
   "cell_type": "code",
   "execution_count": 12,
   "metadata": {},
   "outputs": [],
   "source": [
    "# optimizers = [torch.optim.SGD, optimizer_Adam, optimizer_Adagrad, optimizer_Adadelta, optimizer_RMSprop]\n",
    "\n",
    "optimizers = ['Adam','SGD','Adagrad', 'Adadelta', 'RMSprop']\n",
    "activation_fns = [nn.ReLU(), nn.Tanh(), nn.Sigmoid()]"
   ]
  },
  {
   "cell_type": "code",
   "execution_count": 13,
   "metadata": {},
   "outputs": [],
   "source": [
    "#L1, and L2 regularization parms\n",
    "\n",
    "lambda1 = 0.001\n",
    "lambda2 = 0.1"
   ]
  },
  {
   "cell_type": "code",
   "execution_count": 14,
   "metadata": {},
   "outputs": [],
   "source": [
    "'''\n",
    "STEP 7: TRAIN THE MODEL\n",
    "'''\n",
    "def train_model():\n",
    "    for activation_fn in activation_fns:\n",
    "        \n",
    "        input_dim = 3*32*32\n",
    "        output_dim = 10\n",
    "        \n",
    "        \n",
    "        for opt in optimizers:\n",
    "            \n",
    "            print('Activation Function: {} Optimizer: {}'.format(activation_fn,opt))\n",
    "            optimizer = None\n",
    "            model = None\n",
    "            model = LogisticRegressionModel(input_dim, output_dim, activation_fn)\n",
    "            model.to(avDev)\n",
    "                  \n",
    "            if opt == 'SGD':\n",
    "                optimizer = torch.optim.SGD(model.parameters(), lr=0.02)\n",
    "                \n",
    "            elif opt == 'Adam':\n",
    "                optimizer = torch.optim.Adam(model.parameters(), lr=0.0001)\n",
    "                \n",
    "            elif opt == 'Adagrad':\n",
    "                optimizer = torch.optim.Adagrad(model.parameters(), lr=0.0001)\n",
    "                \n",
    "            elif opt == 'Adadelta':\n",
    "                optimizer = torch.optim.Adadelta(model.parameters(), lr=0.003)\n",
    "                \n",
    "            elif opt == 'RMSprop':\n",
    "                optimizer = torch.optim.RMSprop(model.parameters(), lr=0.000003)\n",
    "\n",
    "            loss_save = np.empty(n_iters-1)\n",
    "            iter = 0\n",
    "            for epoch in range(num_epochs):\n",
    "                for i, (images, labels) in enumerate(train_loader):\n",
    "\n",
    "                    images = images.view(-1, 3*32*32).to(avDev)\n",
    "                    labels = labels.to(avDev)\n",
    "\n",
    "                    # Clear gradients w.r.t. parameters\n",
    "                    optimizer.zero_grad()\n",
    "\n",
    "\n",
    "                    # Forward pass to get output/logits\n",
    "                    outputs = model(images)\n",
    "            #         outputs = model(images)\n",
    "\n",
    "                    # Calculate Loss: softmax --> cross entropy loss\n",
    "                    cross_entropy_loss = criterion(outputs, labels)#\n",
    "\n",
    "\n",
    "                    all_linear1_params = torch.cat([x.view(-1) for x in model.linear1.parameters()])\n",
    "                    all_linear2_params = torch.cat([x.view(-1) for x in model.linear2.parameters()])\n",
    "                    l1_regularization = lambda1 * torch.norm(all_linear1_params, 1)\n",
    "                    l2_regularization = lambda2 * torch.norm(all_linear2_params, 2)\n",
    "\n",
    "                    loss = cross_entropy_loss\n",
    "                    # loss = cross_entropy_loss + l1regularization + l2_regularization\n",
    "                    loss = cross_entropy_loss + l2_regularization\n",
    "                    # Getting gradients w.r.t. parameters\n",
    "                    loss.backward()\n",
    "\n",
    "                    # Updating parameters\n",
    "                    optimizer.step()\n",
    "\n",
    "                    #Save Loss    \n",
    "\n",
    "                    loss_save[iter-1] = loss.item()\n",
    "                    iter += 1\n",
    "\n",
    "                    if iter % 200 == 0:\n",
    "                        # Calculate Accuracy         \n",
    "                        correct = 0\n",
    "                        total = 0\n",
    "                        # Iterate through test dataset\n",
    "                        for images, labels in test_loader:\n",
    "                            #######################\n",
    "                            #  USE GPU FOR MODEL  #\n",
    "                            #######################\n",
    "                            images = images.view(-1, 3*32*32).to(avDev)\n",
    "\n",
    "                            # Forward pass only to get logits/output\n",
    "                            outputs = model(images)\n",
    "\n",
    "                            # Get predictions from the maximum value\n",
    "                            _, predicted = torch.max(outputs.data, 1)\n",
    "\n",
    "                            # Total number of labels\n",
    "                            total += labels.size(0)\n",
    "\n",
    "                            #######################\n",
    "                            #  USE GPU FOR MODEL  #\n",
    "                            #######################\n",
    "                            # Total correct predictions\n",
    "                            correct += (predicted.cpu() == labels.cpu()).sum().float()\n",
    "\n",
    "                        accuracy = 100. * correct / total\n",
    "\n",
    "                        # Print Loss\n",
    "                        print('Iteration: {}. Loss: {}. Accuracy: {}'.format(iter, loss.item(), accuracy))\n",
    "        "
   ]
  },
  {
   "cell_type": "code",
   "execution_count": 15,
   "metadata": {},
   "outputs": [
    {
     "name": "stdout",
     "output_type": "stream",
     "text": [
      "Activation Function: ReLU(). Optimizer: Adam\n",
      "Iteration: 200. Loss: 3.0904364585876465. Accuracy: 38.20000076293945\n",
      "Iteration: 400. Loss: 2.364287853240967. Accuracy: 43.45000076293945\n",
      "Iteration: 600. Loss: 1.9146909713745117. Accuracy: 44.56999969482422\n",
      "Iteration: 800. Loss: 1.7877873182296753. Accuracy: 43.619998931884766\n",
      "Iteration: 1000. Loss: 1.6616512537002563. Accuracy: 45.68000030517578\n",
      "Iteration: 1200. Loss: 1.6649070978164673. Accuracy: 44.72999954223633\n",
      "Iteration: 1400. Loss: 1.7202829122543335. Accuracy: 47.220001220703125\n",
      "Iteration: 1600. Loss: 1.5737030506134033. Accuracy: 47.38999938964844\n",
      "Iteration: 1800. Loss: 1.6662877798080444. Accuracy: 47.29999923706055\n",
      "Iteration: 2000. Loss: 1.634154200553894. Accuracy: 48.86000061035156\n",
      "Iteration: 2200. Loss: 1.5110828876495361. Accuracy: 49.15999984741211\n",
      "Iteration: 2400. Loss: 1.6156537532806396. Accuracy: 49.04999923706055\n",
      "Iteration: 2600. Loss: 1.4912859201431274. Accuracy: 48.58000183105469\n",
      "Iteration: 2800. Loss: 1.5036919116973877. Accuracy: 51.0\n",
      "Iteration: 3000. Loss: 1.5389907360076904. Accuracy: 50.880001068115234\n",
      "Iteration: 3200. Loss: 1.5607595443725586. Accuracy: 51.09000015258789\n",
      "Iteration: 3400. Loss: 1.5506314039230347. Accuracy: 51.40999984741211\n",
      "Iteration: 3600. Loss: 1.562834620475769. Accuracy: 51.529998779296875\n",
      "Iteration: 3800. Loss: 1.4085644483566284. Accuracy: 51.90999984741211\n",
      "Iteration: 4000. Loss: 1.4913450479507446. Accuracy: 51.54999923706055\n",
      "Iteration: 4200. Loss: 1.430403470993042. Accuracy: 51.77000045776367\n",
      "Iteration: 4400. Loss: 1.4377620220184326. Accuracy: 52.34000015258789\n",
      "Iteration: 4600. Loss: 1.3849070072174072. Accuracy: 51.810001373291016\n",
      "Iteration: 4800. Loss: 1.4757617712020874. Accuracy: 52.220001220703125\n",
      "Iteration: 5000. Loss: 1.3995511531829834. Accuracy: 52.720001220703125\n",
      "Activation Function: ReLU(). Optimizer: SGD\n",
      "Iteration: 200. Loss: 5.150503158569336. Accuracy: 28.15999984741211\n",
      "Iteration: 400. Loss: 4.9614105224609375. Accuracy: 32.400001525878906\n",
      "Iteration: 600. Loss: 4.899416923522949. Accuracy: 35.220001220703125\n",
      "Iteration: 800. Loss: 4.839231967926025. Accuracy: 37.099998474121094\n",
      "Iteration: 1000. Loss: 4.751643180847168. Accuracy: 38.369998931884766\n",
      "Iteration: 1200. Loss: 4.677680969238281. Accuracy: 39.2400016784668\n",
      "Iteration: 1400. Loss: 4.62752628326416. Accuracy: 40.5\n",
      "Iteration: 1600. Loss: 4.458282470703125. Accuracy: 41.95000076293945\n",
      "Iteration: 1800. Loss: 4.450006008148193. Accuracy: 42.290000915527344\n",
      "Iteration: 2000. Loss: 4.337467670440674. Accuracy: 43.29999923706055\n",
      "Iteration: 2200. Loss: 4.332754135131836. Accuracy: 44.11000061035156\n",
      "Iteration: 2400. Loss: 4.269648551940918. Accuracy: 44.529998779296875\n",
      "Iteration: 2600. Loss: 4.222221851348877. Accuracy: 44.5099983215332\n",
      "Iteration: 2800. Loss: 4.175546169281006. Accuracy: 45.650001525878906\n",
      "Iteration: 3000. Loss: 4.186666488647461. Accuracy: 45.88999938964844\n",
      "Iteration: 3200. Loss: 4.096033573150635. Accuracy: 46.119998931884766\n",
      "Iteration: 3400. Loss: 4.014451503753662. Accuracy: 44.72999954223633\n",
      "Iteration: 3600. Loss: 3.984127998352051. Accuracy: 47.5099983215332\n",
      "Iteration: 3800. Loss: 3.9396491050720215. Accuracy: 46.04999923706055\n",
      "Iteration: 4000. Loss: 3.843679904937744. Accuracy: 47.869998931884766\n",
      "Iteration: 4200. Loss: 3.756814479827881. Accuracy: 46.58000183105469\n",
      "Iteration: 4400. Loss: 3.7942564487457275. Accuracy: 47.9900016784668\n",
      "Iteration: 4600. Loss: 3.657588481903076. Accuracy: 48.040000915527344\n",
      "Iteration: 4800. Loss: 3.703610420227051. Accuracy: 48.369998931884766\n",
      "Iteration: 5000. Loss: 3.637782096862793. Accuracy: 49.06999969482422\n",
      "Activation Function: ReLU(). Optimizer: Adagrad\n",
      "Iteration: 200. Loss: 4.659768104553223. Accuracy: 32.9900016784668\n",
      "Iteration: 400. Loss: 4.500870704650879. Accuracy: 35.900001525878906\n",
      "Iteration: 600. Loss: 4.343062400817871. Accuracy: 37.65999984741211\n",
      "Iteration: 800. Loss: 4.268996715545654. Accuracy: 38.130001068115234\n",
      "Iteration: 1000. Loss: 4.219007968902588. Accuracy: 38.689998626708984\n",
      "Iteration: 1200. Loss: 4.156207084655762. Accuracy: 39.869998931884766\n",
      "Iteration: 1400. Loss: 4.021903038024902. Accuracy: 40.119998931884766\n",
      "Iteration: 1600. Loss: 4.0347900390625. Accuracy: 40.209999084472656\n",
      "Iteration: 1800. Loss: 3.9526400566101074. Accuracy: 41.22999954223633\n",
      "Iteration: 2000. Loss: 3.9735310077667236. Accuracy: 41.27000045776367\n",
      "Iteration: 2200. Loss: 4.004235744476318. Accuracy: 42.13999938964844\n",
      "Iteration: 2400. Loss: 3.8194971084594727. Accuracy: 42.31999969482422\n",
      "Iteration: 2600. Loss: 3.8240909576416016. Accuracy: 42.33000183105469\n",
      "Iteration: 2800. Loss: 3.729653835296631. Accuracy: 42.349998474121094\n",
      "Iteration: 3000. Loss: 3.76932430267334. Accuracy: 42.849998474121094\n",
      "Iteration: 3200. Loss: 3.7193641662597656. Accuracy: 43.040000915527344\n",
      "Iteration: 3400. Loss: 3.6823580265045166. Accuracy: 43.130001068115234\n",
      "Iteration: 3600. Loss: 3.6673507690429688. Accuracy: 43.33000183105469\n",
      "Iteration: 3800. Loss: 3.5904037952423096. Accuracy: 43.7599983215332\n",
      "Iteration: 4000. Loss: 3.550736904144287. Accuracy: 43.869998931884766\n",
      "Iteration: 4200. Loss: 3.597621202468872. Accuracy: 44.04999923706055\n",
      "Iteration: 4400. Loss: 3.611311912536621. Accuracy: 44.16999816894531\n",
      "Iteration: 4600. Loss: 3.4867336750030518. Accuracy: 44.060001373291016\n",
      "Iteration: 4800. Loss: 3.5189015865325928. Accuracy: 44.209999084472656\n",
      "Iteration: 5000. Loss: 3.4730448722839355. Accuracy: 44.59000015258789\n",
      "Activation Function: ReLU(). Optimizer: Adadelta\n",
      "Iteration: 200. Loss: 5.423317909240723. Accuracy: 15.84000015258789\n",
      "Iteration: 400. Loss: 5.369868755340576. Accuracy: 21.170000076293945\n",
      "Iteration: 600. Loss: 5.327674865722656. Accuracy: 24.239999771118164\n",
      "Iteration: 800. Loss: 5.260859489440918. Accuracy: 25.479999542236328\n",
      "Iteration: 1000. Loss: 5.237677574157715. Accuracy: 26.729999542236328\n",
      "Iteration: 1200. Loss: 5.159389495849609. Accuracy: 27.65999984741211\n",
      "Iteration: 1400. Loss: 5.1395158767700195. Accuracy: 28.739999771118164\n",
      "Iteration: 1600. Loss: 5.132888317108154. Accuracy: 29.1200008392334\n",
      "Iteration: 1800. Loss: 5.041770935058594. Accuracy: 29.889999389648438\n",
      "Iteration: 2000. Loss: 5.026650905609131. Accuracy: 30.43000030517578\n",
      "Iteration: 2200. Loss: 5.089581489562988. Accuracy: 31.170000076293945\n",
      "Iteration: 2400. Loss: 4.974948883056641. Accuracy: 31.3799991607666\n",
      "Iteration: 2600. Loss: 5.010684967041016. Accuracy: 32.029998779296875\n",
      "Iteration: 2800. Loss: 5.035364627838135. Accuracy: 32.459999084472656\n",
      "Iteration: 3000. Loss: 4.974270820617676. Accuracy: 32.83000183105469\n",
      "Iteration: 3200. Loss: 4.997474193572998. Accuracy: 33.400001525878906\n",
      "Iteration: 3400. Loss: 4.93775749206543. Accuracy: 33.63999938964844\n",
      "Iteration: 3600. Loss: 4.89563512802124. Accuracy: 33.90999984741211\n",
      "Iteration: 3800. Loss: 4.886758804321289. Accuracy: 34.220001220703125\n",
      "Iteration: 4000. Loss: 4.889955997467041. Accuracy: 34.38999938964844\n",
      "Iteration: 4200. Loss: 4.894914627075195. Accuracy: 34.959999084472656\n",
      "Iteration: 4400. Loss: 4.8636794090271. Accuracy: 35.08000183105469\n",
      "Iteration: 4600. Loss: 4.832944393157959. Accuracy: 35.130001068115234\n",
      "Iteration: 4800. Loss: 4.8310441970825195. Accuracy: 35.599998474121094\n",
      "Iteration: 5000. Loss: 4.839433670043945. Accuracy: 35.38999938964844\n",
      "Activation Function: ReLU(). Optimizer: RMSprop\n",
      "Iteration: 200. Loss: 5.051443576812744. Accuracy: 30.290000915527344\n",
      "Iteration: 400. Loss: 4.861752510070801. Accuracy: 32.5099983215332\n",
      "Iteration: 600. Loss: 4.732685565948486. Accuracy: 33.439998626708984\n",
      "Iteration: 800. Loss: 4.7196550369262695. Accuracy: 34.91999816894531\n",
      "Iteration: 1000. Loss: 4.59205436706543. Accuracy: 35.31999969482422\n",
      "Iteration: 1200. Loss: 4.520476341247559. Accuracy: 36.709999084472656\n",
      "Iteration: 1400. Loss: 4.453713417053223. Accuracy: 37.54999923706055\n",
      "Iteration: 1600. Loss: 4.294600009918213. Accuracy: 38.08000183105469\n",
      "Iteration: 1800. Loss: 4.266236305236816. Accuracy: 38.61000061035156\n",
      "Iteration: 2000. Loss: 4.233375549316406. Accuracy: 39.70000076293945\n",
      "Iteration: 2200. Loss: 4.128719806671143. Accuracy: 39.5\n",
      "Iteration: 2400. Loss: 4.1655473709106445. Accuracy: 40.25\n",
      "Iteration: 2600. Loss: 3.9708094596862793. Accuracy: 40.59000015258789\n",
      "Iteration: 2800. Loss: 3.974876880645752. Accuracy: 41.2400016784668\n"
     ]
    },
    {
     "name": "stdout",
     "output_type": "stream",
     "text": [
      "Iteration: 3000. Loss: 3.883531093597412. Accuracy: 41.349998474121094\n",
      "Iteration: 3200. Loss: 3.8256678581237793. Accuracy: 41.939998626708984\n",
      "Iteration: 3400. Loss: 3.789361000061035. Accuracy: 42.150001525878906\n",
      "Iteration: 3600. Loss: 3.7070956230163574. Accuracy: 42.7599983215332\n",
      "Iteration: 3800. Loss: 3.680737018585205. Accuracy: 43.08000183105469\n",
      "Iteration: 4000. Loss: 3.6025004386901855. Accuracy: 43.060001373291016\n",
      "Iteration: 4200. Loss: 3.5507869720458984. Accuracy: 43.599998474121094\n",
      "Iteration: 4400. Loss: 3.501246452331543. Accuracy: 43.779998779296875\n",
      "Iteration: 4600. Loss: 3.444969654083252. Accuracy: 43.7599983215332\n",
      "Iteration: 4800. Loss: 3.478276252746582. Accuracy: 44.33000183105469\n",
      "Iteration: 5000. Loss: 3.422091007232666. Accuracy: 44.54999923706055\n",
      "Activation Function: Tanh(). Optimizer: Adam\n",
      "Iteration: 200. Loss: 3.8775060176849365. Accuracy: 38.86000061035156\n",
      "Iteration: 400. Loss: 2.8859143257141113. Accuracy: 39.59000015258789\n",
      "Iteration: 600. Loss: 2.1559154987335205. Accuracy: 39.189998626708984\n",
      "Iteration: 800. Loss: 1.8681128025054932. Accuracy: 39.58000183105469\n",
      "Iteration: 1000. Loss: 1.891008734703064. Accuracy: 40.709999084472656\n",
      "Iteration: 1200. Loss: 1.7378062009811401. Accuracy: 40.2599983215332\n",
      "Iteration: 1400. Loss: 1.8015820980072021. Accuracy: 40.279998779296875\n",
      "Iteration: 1600. Loss: 1.7891956567764282. Accuracy: 42.130001068115234\n",
      "Iteration: 1800. Loss: 1.7793846130371094. Accuracy: 42.709999084472656\n",
      "Iteration: 2000. Loss: 1.7666460275650024. Accuracy: 42.459999084472656\n",
      "Iteration: 2200. Loss: 1.773772120475769. Accuracy: 42.34000015258789\n",
      "Iteration: 2400. Loss: 1.7092695236206055. Accuracy: 44.560001373291016\n",
      "Iteration: 2600. Loss: 1.711413860321045. Accuracy: 43.869998931884766\n",
      "Iteration: 2800. Loss: 1.7068603038787842. Accuracy: 40.95000076293945\n",
      "Iteration: 3000. Loss: 1.7273203134536743. Accuracy: 44.43000030517578\n",
      "Iteration: 3200. Loss: 1.6489225625991821. Accuracy: 44.11000061035156\n",
      "Iteration: 3400. Loss: 1.6524639129638672. Accuracy: 45.02000045776367\n",
      "Iteration: 3600. Loss: 1.6769232749938965. Accuracy: 43.970001220703125\n",
      "Iteration: 3800. Loss: 1.6904622316360474. Accuracy: 44.34000015258789\n",
      "Iteration: 4000. Loss: 1.6729141473770142. Accuracy: 44.709999084472656\n",
      "Iteration: 4200. Loss: 1.6862437725067139. Accuracy: 44.290000915527344\n",
      "Iteration: 4400. Loss: 1.659074068069458. Accuracy: 45.470001220703125\n",
      "Iteration: 4600. Loss: 1.6665607690811157. Accuracy: 45.220001220703125\n",
      "Iteration: 4800. Loss: 1.678717851638794. Accuracy: 45.04999923706055\n",
      "Iteration: 5000. Loss: 1.6038514375686646. Accuracy: 46.08000183105469\n",
      "Activation Function: Tanh(). Optimizer: SGD\n",
      "Iteration: 200. Loss: 5.053247928619385. Accuracy: 32.470001220703125\n",
      "Iteration: 400. Loss: 4.984551429748535. Accuracy: 35.2400016784668\n",
      "Iteration: 600. Loss: 4.871172904968262. Accuracy: 37.130001068115234\n",
      "Iteration: 800. Loss: 4.766729354858398. Accuracy: 38.11000061035156\n",
      "Iteration: 1000. Loss: 4.8002214431762695. Accuracy: 38.4900016784668\n",
      "Iteration: 1200. Loss: 4.702077388763428. Accuracy: 38.97999954223633\n",
      "Iteration: 1400. Loss: 4.616193771362305. Accuracy: 38.880001068115234\n",
      "Iteration: 1600. Loss: 4.609933376312256. Accuracy: 38.68000030517578\n",
      "Iteration: 1800. Loss: 4.530846118927002. Accuracy: 39.9900016784668\n",
      "Iteration: 2000. Loss: 4.501860618591309. Accuracy: 40.150001525878906\n",
      "Iteration: 2200. Loss: 4.384496688842773. Accuracy: 38.16999816894531\n",
      "Iteration: 2400. Loss: 4.481960773468018. Accuracy: 37.560001373291016\n",
      "Iteration: 2600. Loss: 4.362080097198486. Accuracy: 39.7400016784668\n",
      "Iteration: 2800. Loss: 4.427107334136963. Accuracy: 38.290000915527344\n",
      "Iteration: 3000. Loss: 4.326545715332031. Accuracy: 40.779998779296875\n",
      "Iteration: 3200. Loss: 4.2487711906433105. Accuracy: 40.279998779296875\n",
      "Iteration: 3400. Loss: 4.1803741455078125. Accuracy: 40.2599983215332\n",
      "Iteration: 3600. Loss: 4.066619873046875. Accuracy: 40.40999984741211\n",
      "Iteration: 3800. Loss: 4.045202255249023. Accuracy: 40.959999084472656\n",
      "Iteration: 4000. Loss: 4.125125885009766. Accuracy: 40.72999954223633\n",
      "Iteration: 4200. Loss: 4.0517473220825195. Accuracy: 41.310001373291016\n",
      "Iteration: 4400. Loss: 4.013218879699707. Accuracy: 40.29999923706055\n",
      "Iteration: 4600. Loss: 3.9357829093933105. Accuracy: 41.77000045776367\n",
      "Iteration: 4800. Loss: 3.9054508209228516. Accuracy: 39.54999923706055\n",
      "Iteration: 5000. Loss: 3.850098133087158. Accuracy: 41.2599983215332\n",
      "Activation Function: Tanh(). Optimizer: Adagrad\n",
      "Iteration: 200. Loss: 4.817492485046387. Accuracy: 35.0\n",
      "Iteration: 400. Loss: 4.725564002990723. Accuracy: 37.06999969482422\n",
      "Iteration: 600. Loss: 4.640793800354004. Accuracy: 37.18000030517578\n",
      "Iteration: 800. Loss: 4.520190715789795. Accuracy: 38.400001525878906\n",
      "Iteration: 1000. Loss: 4.431729316711426. Accuracy: 38.61000061035156\n",
      "Iteration: 1200. Loss: 4.425989627838135. Accuracy: 38.529998779296875\n",
      "Iteration: 1400. Loss: 4.342360973358154. Accuracy: 38.93000030517578\n",
      "Iteration: 1600. Loss: 4.242800712585449. Accuracy: 39.5\n",
      "Iteration: 1800. Loss: 4.187555313110352. Accuracy: 39.540000915527344\n",
      "Iteration: 2000. Loss: 4.171709060668945. Accuracy: 39.33000183105469\n",
      "Iteration: 2200. Loss: 4.228435039520264. Accuracy: 39.529998779296875\n",
      "Iteration: 2400. Loss: 4.072464466094971. Accuracy: 39.77000045776367\n",
      "Iteration: 2600. Loss: 4.136099338531494. Accuracy: 39.5099983215332\n",
      "Iteration: 2800. Loss: 4.097750186920166. Accuracy: 39.900001525878906\n",
      "Iteration: 3000. Loss: 4.051987648010254. Accuracy: 40.220001220703125\n",
      "Iteration: 3200. Loss: 3.9809775352478027. Accuracy: 40.59000015258789\n",
      "Iteration: 3400. Loss: 3.8824703693389893. Accuracy: 40.16999816894531\n",
      "Iteration: 3600. Loss: 3.944950580596924. Accuracy: 40.150001525878906\n",
      "Iteration: 3800. Loss: 3.8944718837738037. Accuracy: 40.22999954223633\n",
      "Iteration: 4000. Loss: 3.8419432640075684. Accuracy: 40.2599983215332\n",
      "Iteration: 4200. Loss: 3.824800968170166. Accuracy: 40.650001525878906\n",
      "Iteration: 4400. Loss: 3.838280200958252. Accuracy: 40.22999954223633\n",
      "Iteration: 4600. Loss: 3.7237606048583984. Accuracy: 40.560001373291016\n",
      "Iteration: 4800. Loss: 3.790330171585083. Accuracy: 40.40999984741211\n",
      "Iteration: 5000. Loss: 3.7302966117858887. Accuracy: 40.36000061035156\n",
      "Activation Function: Tanh(). Optimizer: Adadelta\n",
      "Iteration: 200. Loss: 5.34559440612793. Accuracy: 23.450000762939453\n",
      "Iteration: 400. Loss: 5.2759809494018555. Accuracy: 27.200000762939453\n",
      "Iteration: 600. Loss: 5.211040019989014. Accuracy: 29.270000457763672\n",
      "Iteration: 800. Loss: 5.15225887298584. Accuracy: 30.940000534057617\n",
      "Iteration: 1000. Loss: 5.147371292114258. Accuracy: 31.489999771118164\n",
      "Iteration: 1200. Loss: 5.135315895080566. Accuracy: 32.060001373291016\n",
      "Iteration: 1400. Loss: 5.0410919189453125. Accuracy: 32.709999084472656\n",
      "Iteration: 1600. Loss: 5.07630729675293. Accuracy: 33.279998779296875\n",
      "Iteration: 1800. Loss: 4.9583420753479. Accuracy: 33.88999938964844\n",
      "Iteration: 2000. Loss: 4.987042427062988. Accuracy: 34.41999816894531\n",
      "Iteration: 2200. Loss: 5.007673740386963. Accuracy: 34.59000015258789\n",
      "Iteration: 2400. Loss: 4.954746723175049. Accuracy: 35.09000015258789\n",
      "Iteration: 2600. Loss: 4.990655899047852. Accuracy: 35.04999923706055\n",
      "Iteration: 2800. Loss: 4.8902435302734375. Accuracy: 35.15999984741211\n",
      "Iteration: 3000. Loss: 4.936489105224609. Accuracy: 35.70000076293945\n",
      "Iteration: 3200. Loss: 4.938873767852783. Accuracy: 35.97999954223633\n",
      "Iteration: 3400. Loss: 4.8790812492370605. Accuracy: 36.08000183105469\n",
      "Iteration: 3600. Loss: 4.851842880249023. Accuracy: 36.63999938964844\n",
      "Iteration: 3800. Loss: 4.863039016723633. Accuracy: 36.400001525878906\n",
      "Iteration: 4000. Loss: 4.801168918609619. Accuracy: 36.70000076293945\n",
      "Iteration: 4200. Loss: 4.836271286010742. Accuracy: 37.06999969482422\n",
      "Iteration: 4400. Loss: 4.870532989501953. Accuracy: 37.189998626708984\n",
      "Iteration: 4600. Loss: 4.864640712738037. Accuracy: 37.16999816894531\n",
      "Iteration: 4800. Loss: 4.867304801940918. Accuracy: 37.70000076293945\n",
      "Iteration: 5000. Loss: 4.803279876708984. Accuracy: 37.619998931884766\n",
      "Activation Function: Tanh(). Optimizer: RMSprop\n",
      "Iteration: 200. Loss: 5.042397975921631. Accuracy: 31.84000015258789\n",
      "Iteration: 400. Loss: 4.968806266784668. Accuracy: 34.56999969482422\n",
      "Iteration: 600. Loss: 4.929717063903809. Accuracy: 35.72999954223633\n"
     ]
    },
    {
     "name": "stdout",
     "output_type": "stream",
     "text": [
      "Iteration: 800. Loss: 4.784521579742432. Accuracy: 36.650001525878906\n",
      "Iteration: 1000. Loss: 4.679326057434082. Accuracy: 37.0099983215332\n",
      "Iteration: 1200. Loss: 4.632956504821777. Accuracy: 37.709999084472656\n",
      "Iteration: 1400. Loss: 4.6508612632751465. Accuracy: 38.06999969482422\n",
      "Iteration: 1600. Loss: 4.546135902404785. Accuracy: 38.459999084472656\n",
      "Iteration: 1800. Loss: 4.4731645584106445. Accuracy: 38.599998474121094\n",
      "Iteration: 2000. Loss: 4.373909950256348. Accuracy: 38.81999969482422\n",
      "Iteration: 2200. Loss: 4.322139739990234. Accuracy: 39.279998779296875\n",
      "Iteration: 2400. Loss: 4.309349536895752. Accuracy: 39.529998779296875\n",
      "Iteration: 2600. Loss: 4.1949849128723145. Accuracy: 39.880001068115234\n",
      "Iteration: 2800. Loss: 4.135806560516357. Accuracy: 39.959999084472656\n",
      "Iteration: 3000. Loss: 4.082680702209473. Accuracy: 39.61000061035156\n",
      "Iteration: 3200. Loss: 3.9785869121551514. Accuracy: 40.119998931884766\n",
      "Iteration: 3400. Loss: 3.9457786083221436. Accuracy: 39.81999969482422\n",
      "Iteration: 3600. Loss: 3.9221038818359375. Accuracy: 40.13999938964844\n",
      "Iteration: 3800. Loss: 3.8877615928649902. Accuracy: 40.400001525878906\n",
      "Iteration: 4000. Loss: 3.8385002613067627. Accuracy: 40.2599983215332\n",
      "Iteration: 4200. Loss: 3.803734302520752. Accuracy: 40.16999816894531\n",
      "Iteration: 4400. Loss: 3.595616579055786. Accuracy: 40.72999954223633\n",
      "Iteration: 4600. Loss: 3.6327309608459473. Accuracy: 40.939998626708984\n",
      "Iteration: 4800. Loss: 3.5432095527648926. Accuracy: 40.79999923706055\n",
      "Iteration: 5000. Loss: 3.574035882949829. Accuracy: 40.16999816894531\n",
      "Activation Function: Sigmoid(). Optimizer: Adam\n",
      "Iteration: 200. Loss: 3.0799179077148438. Accuracy: 31.8799991607666\n",
      "Iteration: 400. Loss: 2.1613709926605225. Accuracy: 27.360000610351562\n",
      "Iteration: 600. Loss: 2.080221176147461. Accuracy: 29.389999389648438\n",
      "Iteration: 800. Loss: 2.0872347354888916. Accuracy: 29.389999389648438\n",
      "Iteration: 1000. Loss: 2.0375618934631348. Accuracy: 31.93000030517578\n",
      "Iteration: 1200. Loss: 2.091129779815674. Accuracy: 30.31999969482422\n",
      "Iteration: 1400. Loss: 2.0088226795196533. Accuracy: 32.22999954223633\n",
      "Iteration: 1600. Loss: 2.052412271499634. Accuracy: 32.84000015258789\n",
      "Iteration: 1800. Loss: 1.9585869312286377. Accuracy: 32.43000030517578\n",
      "Iteration: 2000. Loss: 1.948699951171875. Accuracy: 33.15999984741211\n",
      "Iteration: 2200. Loss: 1.9923456907272339. Accuracy: 34.040000915527344\n",
      "Iteration: 2400. Loss: 1.9434764385223389. Accuracy: 33.790000915527344\n",
      "Iteration: 2600. Loss: 1.9355454444885254. Accuracy: 34.349998474121094\n",
      "Iteration: 2800. Loss: 1.916252851486206. Accuracy: 34.70000076293945\n",
      "Iteration: 3000. Loss: 1.9719629287719727. Accuracy: 34.11000061035156\n",
      "Iteration: 3200. Loss: 1.9773694276809692. Accuracy: 35.09000015258789\n",
      "Iteration: 3400. Loss: 1.9268560409545898. Accuracy: 36.11000061035156\n",
      "Iteration: 3600. Loss: 1.8897558450698853. Accuracy: 35.369998931884766\n",
      "Iteration: 3800. Loss: 1.8831321001052856. Accuracy: 35.720001220703125\n",
      "Iteration: 4000. Loss: 1.9106805324554443. Accuracy: 36.650001525878906\n",
      "Iteration: 4200. Loss: 1.8795244693756104. Accuracy: 35.959999084472656\n",
      "Iteration: 4400. Loss: 1.8940092325210571. Accuracy: 36.11000061035156\n",
      "Iteration: 4600. Loss: 1.8580387830734253. Accuracy: 37.52000045776367\n",
      "Iteration: 4800. Loss: 1.8508729934692383. Accuracy: 37.349998474121094\n",
      "Iteration: 5000. Loss: 1.9184939861297607. Accuracy: 36.2599983215332\n",
      "Activation Function: Sigmoid(). Optimizer: SGD\n",
      "Iteration: 200. Loss: 5.505836486816406. Accuracy: 10.15999984741211\n",
      "Iteration: 400. Loss: 5.395139694213867. Accuracy: 10.979999542236328\n",
      "Iteration: 600. Loss: 5.359036445617676. Accuracy: 12.59000015258789\n",
      "Iteration: 800. Loss: 5.316217422485352. Accuracy: 11.34000015258789\n",
      "Iteration: 1000. Loss: 5.234424591064453. Accuracy: 13.550000190734863\n",
      "Iteration: 1200. Loss: 5.165000915527344. Accuracy: 14.859999656677246\n",
      "Iteration: 1400. Loss: 5.11415958404541. Accuracy: 16.360000610351562\n",
      "Iteration: 1600. Loss: 5.049046516418457. Accuracy: 16.790000915527344\n",
      "Iteration: 1800. Loss: 4.982477188110352. Accuracy: 17.75\n",
      "Iteration: 2000. Loss: 4.906342506408691. Accuracy: 17.969999313354492\n",
      "Iteration: 2200. Loss: 4.866686820983887. Accuracy: 18.700000762939453\n",
      "Iteration: 2400. Loss: 4.808134078979492. Accuracy: 18.559999465942383\n",
      "Iteration: 2600. Loss: 4.774824619293213. Accuracy: 19.81999969482422\n",
      "Iteration: 2800. Loss: 4.714633464813232. Accuracy: 22.719999313354492\n",
      "Iteration: 3000. Loss: 4.675605773925781. Accuracy: 20.649999618530273\n",
      "Iteration: 3200. Loss: 4.6071014404296875. Accuracy: 22.440000534057617\n",
      "Iteration: 3400. Loss: 4.559473514556885. Accuracy: 22.59000015258789\n",
      "Iteration: 3600. Loss: 4.474390029907227. Accuracy: 22.920000076293945\n",
      "Iteration: 3800. Loss: 4.5117645263671875. Accuracy: 23.290000915527344\n",
      "Iteration: 4000. Loss: 4.412041187286377. Accuracy: 23.25\n",
      "Iteration: 4200. Loss: 4.339625358581543. Accuracy: 24.940000534057617\n",
      "Iteration: 4400. Loss: 4.352942943572998. Accuracy: 25.760000228881836\n",
      "Iteration: 4600. Loss: 4.268013954162598. Accuracy: 25.31999969482422\n",
      "Iteration: 4800. Loss: 4.190365791320801. Accuracy: 25.440000534057617\n",
      "Iteration: 5000. Loss: 4.166431427001953. Accuracy: 25.469999313354492\n",
      "Activation Function: Sigmoid(). Optimizer: Adagrad\n",
      "Iteration: 200. Loss: 5.056095123291016. Accuracy: 20.34000015258789\n",
      "Iteration: 400. Loss: 4.845168590545654. Accuracy: 22.81999969482422\n",
      "Iteration: 600. Loss: 4.688876628875732. Accuracy: 25.770000457763672\n",
      "Iteration: 800. Loss: 4.618264198303223. Accuracy: 26.479999542236328\n",
      "Iteration: 1000. Loss: 4.473287582397461. Accuracy: 27.260000228881836\n",
      "Iteration: 1200. Loss: 4.381268501281738. Accuracy: 27.239999771118164\n",
      "Iteration: 1400. Loss: 4.305377006530762. Accuracy: 27.579999923706055\n",
      "Iteration: 1600. Loss: 4.2157487869262695. Accuracy: 28.540000915527344\n",
      "Iteration: 1800. Loss: 4.138472557067871. Accuracy: 28.469999313354492\n",
      "Iteration: 2000. Loss: 4.121798038482666. Accuracy: 29.1299991607666\n",
      "Iteration: 2200. Loss: 4.036957740783691. Accuracy: 29.239999771118164\n",
      "Iteration: 2400. Loss: 4.0186662673950195. Accuracy: 29.020000457763672\n",
      "Iteration: 2600. Loss: 3.9310879707336426. Accuracy: 29.010000228881836\n",
      "Iteration: 2800. Loss: 3.8806991577148438. Accuracy: 29.979999542236328\n",
      "Iteration: 3000. Loss: 3.8627967834472656. Accuracy: 29.5\n",
      "Iteration: 3200. Loss: 3.847100257873535. Accuracy: 30.049999237060547\n",
      "Iteration: 3400. Loss: 3.746455192565918. Accuracy: 30.280000686645508\n",
      "Iteration: 3600. Loss: 3.7615790367126465. Accuracy: 30.200000762939453\n",
      "Iteration: 3800. Loss: 3.710111618041992. Accuracy: 30.8700008392334\n",
      "Iteration: 4000. Loss: 3.6589369773864746. Accuracy: 30.540000915527344\n",
      "Iteration: 4200. Loss: 3.610740900039673. Accuracy: 30.639999389648438\n",
      "Iteration: 4400. Loss: 3.5525922775268555. Accuracy: 30.969999313354492\n",
      "Iteration: 4600. Loss: 3.5413012504577637. Accuracy: 30.649999618530273\n",
      "Iteration: 4800. Loss: 3.4657325744628906. Accuracy: 31.260000228881836\n",
      "Iteration: 5000. Loss: 3.4702062606811523. Accuracy: 30.690000534057617\n",
      "Activation Function: Sigmoid(). Optimizer: Adadelta\n",
      "Iteration: 200. Loss: 5.471734046936035. Accuracy: 10.399999618530273\n",
      "Iteration: 400. Loss: 5.450201034545898. Accuracy: 10.760000228881836\n",
      "Iteration: 600. Loss: 5.443576812744141. Accuracy: 10.210000038146973\n",
      "Iteration: 800. Loss: 5.448906898498535. Accuracy: 10.050000190734863\n",
      "Iteration: 1000. Loss: 5.441026210784912. Accuracy: 9.84000015258789\n",
      "Iteration: 1200. Loss: 5.4352192878723145. Accuracy: 10.09000015258789\n",
      "Iteration: 1400. Loss: 5.419158935546875. Accuracy: 10.289999961853027\n",
      "Iteration: 1600. Loss: 5.411352157592773. Accuracy: 10.619999885559082\n",
      "Iteration: 1800. Loss: 5.412685394287109. Accuracy: 10.699999809265137\n",
      "Iteration: 2000. Loss: 5.416264057159424. Accuracy: 11.289999961853027\n",
      "Iteration: 2200. Loss: 5.394316673278809. Accuracy: 10.470000267028809\n",
      "Iteration: 2400. Loss: 5.396576881408691. Accuracy: 11.350000381469727\n",
      "Iteration: 2600. Loss: 5.382380962371826. Accuracy: 10.489999771118164\n",
      "Iteration: 2800. Loss: 5.380486488342285. Accuracy: 10.8100004196167\n",
      "Iteration: 3000. Loss: 5.37838888168335. Accuracy: 10.850000381469727\n",
      "Iteration: 3200. Loss: 5.358299732208252. Accuracy: 11.170000076293945\n",
      "Iteration: 3400. Loss: 5.356888771057129. Accuracy: 11.399999618530273\n"
     ]
    },
    {
     "name": "stdout",
     "output_type": "stream",
     "text": [
      "Iteration: 3600. Loss: 5.354618072509766. Accuracy: 12.079999923706055\n",
      "Iteration: 3800. Loss: 5.357110977172852. Accuracy: 11.369999885559082\n",
      "Iteration: 4000. Loss: 5.345876693725586. Accuracy: 12.149999618530273\n",
      "Iteration: 4200. Loss: 5.339518070220947. Accuracy: 12.069999694824219\n",
      "Iteration: 4400. Loss: 5.322750568389893. Accuracy: 11.449999809265137\n",
      "Iteration: 4600. Loss: 5.31834077835083. Accuracy: 12.350000381469727\n",
      "Iteration: 4800. Loss: 5.315279006958008. Accuracy: 11.90999984741211\n",
      "Iteration: 5000. Loss: 5.296778202056885. Accuracy: 11.850000381469727\n",
      "Activation Function: Sigmoid(). Optimizer: RMSprop\n",
      "Iteration: 200. Loss: 5.332097053527832. Accuracy: 14.260000228881836\n",
      "Iteration: 400. Loss: 5.224196910858154. Accuracy: 16.889999389648438\n",
      "Iteration: 600. Loss: 5.129657745361328. Accuracy: 19.200000762939453\n",
      "Iteration: 800. Loss: 5.009190559387207. Accuracy: 21.530000686645508\n",
      "Iteration: 1000. Loss: 4.907609939575195. Accuracy: 22.93000030517578\n",
      "Iteration: 1200. Loss: 4.799908638000488. Accuracy: 23.479999542236328\n",
      "Iteration: 1400. Loss: 4.679290294647217. Accuracy: 24.959999084472656\n",
      "Iteration: 1600. Loss: 4.63181209564209. Accuracy: 25.670000076293945\n",
      "Iteration: 1800. Loss: 4.56675386428833. Accuracy: 26.440000534057617\n",
      "Iteration: 2000. Loss: 4.435194969177246. Accuracy: 26.959999084472656\n",
      "Iteration: 2200. Loss: 4.320693016052246. Accuracy: 28.829999923706055\n",
      "Iteration: 2400. Loss: 4.222888946533203. Accuracy: 28.43000030517578\n",
      "Iteration: 2600. Loss: 4.177237510681152. Accuracy: 29.1299991607666\n",
      "Iteration: 2800. Loss: 4.094662666320801. Accuracy: 29.040000915527344\n",
      "Iteration: 3000. Loss: 4.005227088928223. Accuracy: 29.34000015258789\n",
      "Iteration: 3200. Loss: 3.91257643699646. Accuracy: 29.940000534057617\n",
      "Iteration: 3400. Loss: 3.855128765106201. Accuracy: 29.850000381469727\n",
      "Iteration: 3600. Loss: 3.7962944507598877. Accuracy: 30.059999465942383\n",
      "Iteration: 3800. Loss: 3.6750426292419434. Accuracy: 30.18000030517578\n",
      "Iteration: 4000. Loss: 3.6377344131469727. Accuracy: 30.329999923706055\n",
      "Iteration: 4200. Loss: 3.5466628074645996. Accuracy: 30.229999542236328\n",
      "Iteration: 4400. Loss: 3.47969126701355. Accuracy: 30.770000457763672\n",
      "Iteration: 4600. Loss: 3.3852946758270264. Accuracy: 30.639999389648438\n",
      "Iteration: 4800. Loss: 3.3738837242126465. Accuracy: 31.110000610351562\n",
      "Iteration: 5000. Loss: 3.3224143981933594. Accuracy: 31.469999313354492\n"
     ]
    }
   ],
   "source": [
    "train_model()"
   ]
  },
  {
   "cell_type": "markdown",
   "metadata": {},
   "source": [
    "# Best Combinations:\n",
    "    Number of layers: 3\n",
    "    Activatoin Function: ReLU\n",
    "    Optimizer : Adam\n",
    "    Regularizations: Dropout + L2"
   ]
  },
  {
   "cell_type": "code",
   "execution_count": 23,
   "metadata": {},
   "outputs": [],
   "source": [
    "#Train with best combination of parameters \n",
    "\n",
    "input_dim = 3*32*32\n",
    "output_dim = 10\n",
    "\n",
    "optimizer = None\n",
    "model = None\n",
    "model = LogisticRegressionModel(input_dim, output_dim, nn.ReLU())\n",
    "model.to(avDev)\n",
    "optimizer = torch.optim.Adam(model.parameters(), lr=0.0001)\n",
    "loss_save = np.empty(n_iters-1)\n",
    "iter = 0\n",
    "for epoch in range(num_epochs):\n",
    "    for i, (images, labels) in enumerate(train_loader):\n",
    "\n",
    "        images = images.view(-1, 3*32*32).to(avDev)\n",
    "        labels = labels.to(avDev)\n",
    "\n",
    "        # Clear gradients w.r.t. parameters\n",
    "        optimizer.zero_grad()\n",
    "\n",
    "\n",
    "        # Forward pass to get output/logits\n",
    "        outputs = model(images)\n",
    "#         outputs = model(images)\n",
    "\n",
    "        # Calculate Loss: softmax --> cross entropy loss\n",
    "        cross_entropy_loss = criterion(outputs, labels)#\n",
    "\n",
    "\n",
    "        all_linear1_params = torch.cat([x.view(-1) for x in model.linear1.parameters()])\n",
    "        all_linear2_params = torch.cat([x.view(-1) for x in model.linear2.parameters()])\n",
    "        l1_regularization = lambda1 * torch.norm(all_linear1_params, 1)\n",
    "        l2_regularization = lambda2 * torch.norm(all_linear2_params, 2)\n",
    "\n",
    "        loss = cross_entropy_loss\n",
    "        # loss = cross_entropy_loss + l1regularization + l2_regularization\n",
    "        loss = cross_entropy_loss + l2_regularization\n",
    "        # Getting gradients w.r.t. parameters\n",
    "        loss.backward()\n",
    "\n",
    "        # Updating parameters\n",
    "        optimizer.step()\n",
    "        #Save Loss    \n",
    "\n",
    "        loss_save[iter-1] = loss.item()\n",
    "        iter += 1"
   ]
  },
  {
   "cell_type": "code",
   "execution_count": 18,
   "metadata": {},
   "outputs": [
    {
     "name": "stdout",
     "output_type": "stream",
     "text": [
      "Accuracy of the network on the  train images: 58 %\n"
     ]
    }
   ],
   "source": [
    "correct = 0\n",
    "total = 0\n",
    "model.to(avDev)\n",
    "\n",
    "with torch.no_grad():\n",
    "    for data in train_loader:\n",
    "        images, labels = data\n",
    "        images = images.view(-1, 3*32*32).to(avDev)\n",
    "        labels = labels.to(avDev)\n",
    "        outputs = model(images)\n",
    "        _, predicted = torch.max(outputs.data, 1)\n",
    "        total += labels.size(0)\n",
    "        correct += (predicted == labels).sum().item()\n",
    "\n",
    "print('Accuracy of the network on the  train images: %d %%' % (100 * correct / total))"
   ]
  },
  {
   "cell_type": "code",
   "execution_count": 19,
   "metadata": {},
   "outputs": [
    {
     "name": "stdout",
     "output_type": "stream",
     "text": [
      "torch.Size([500, 3072])\n"
     ]
    }
   ],
   "source": [
    "print(images.size())"
   ]
  },
  {
   "cell_type": "code",
   "execution_count": 20,
   "metadata": {},
   "outputs": [
    {
     "data": {
      "text/plain": [
       "torch.Size([500, 10])"
      ]
     },
     "execution_count": 20,
     "metadata": {},
     "output_type": "execute_result"
    }
   ],
   "source": [
    "outputs.size()"
   ]
  },
  {
   "cell_type": "code",
   "execution_count": 21,
   "metadata": {},
   "outputs": [
    {
     "data": {
      "text/plain": [
       "torch.Size([500])"
      ]
     },
     "execution_count": 21,
     "metadata": {},
     "output_type": "execute_result"
    }
   ],
   "source": [
    "labels.size()"
   ]
  },
  {
   "cell_type": "markdown",
   "metadata": {},
   "source": [
    "# Learning Curve"
   ]
  },
  {
   "cell_type": "code",
   "execution_count": 24,
   "metadata": {},
   "outputs": [
    {
     "data": {
      "image/png": "[encoded data removed]",
      "text/plain": [
       "<Figure size 432x288 with 1 Axes>"
      ]
     },
     "metadata": {
      "needs_background": "light"
     },
     "output_type": "display_data"
    }
   ],
   "source": [
    "ax = sns.lineplot(data = loss_save)\n",
    "ax.set(xlabel = \"Iterations\", ylabel=\"Loss\")\n",
    "plt.show()"
   ]
  },
  {
   "cell_type": "markdown",
   "metadata": {},
   "source": [
    "# Confusion Matrix"
   ]
  },
  {
   "cell_type": "code",
   "execution_count": 25,
   "metadata": {},
   "outputs": [],
   "source": [
    "model.to(avDev)\n",
    "\n",
    "with torch.no_grad():\n",
    "    for data in test_loader:\n",
    "        images, labels = data\n",
    "        images = images.view(-1, 3*32*32).to(avDev)\n",
    "        labels = labels.to(avDev)\n",
    "        outputs = model(images)\n",
    "        _, predicted = torch.max(outputs.data, 1)\n",
    "        \n",
    "cm = confusion_matrix(predicted.cpu(), labels.cpu()).astype(np.int)"
   ]
  },
  {
   "cell_type": "code",
   "execution_count": 26,
   "metadata": {
    "scrolled": false
   },
   "outputs": [
    {
     "data": {
      "image/png": "[encoded data removed]",
      "text/plain": [
       "<Figure size 864x720 with 2 Axes>"
      ]
     },
     "metadata": {
      "needs_background": "light"
     },
     "output_type": "display_data"
    }
   ],
   "source": [
    "import pandas as pd\n",
    "CLASSES = ('plane', 'car', 'bird', 'cat', 'deer', 'dog', 'frog', 'horse', 'ship', 'truck')\n",
    "plt.figure(figsize=(12,10))\n",
    "df_cm = pd.DataFrame(cm,CLASSES,CLASSES)\n",
    "sns.set(font_scale=1.4)\n",
    "ax = sns.heatmap(df_cm,annot=True,fmt='d')\n",
    "bottom, top = ax.get_ylim()\n",
    "ax.set_ylim(bottom + 0.5, top - 0.5)\n",
    "plt.show()"
   ]
  },
  {
   "cell_type": "code",
   "execution_count": 34,
   "metadata": {},
   "outputs": [],
   "source": [
    "def hinge_loss(outputs):\n",
    "    _, predicted = torch.max(outputs.data, 1)\n",
    "    output_label = outputs[predicted]\n",
    "    margins = np.maximum(0, outputs.cpu().detach().numpy()-output_label.cpu().numpy() +1)\n",
    "    loss = np.sum(margins)\n",
    "    return loss\n",
    "    "
   ]
  },
  {
   "cell_type": "code",
   "execution_count": 48,
   "metadata": {},
   "outputs": [],
   "source": [
    "def softmax_loss(outputs):\n",
    "    _, predicted = torch.max(outputs.data, 1)\n",
    "    output_label = outputs[predicted].cpu()\n",
    "    output_label_exp = np.exp(outputs.cpu().numpy())\n",
    "    sum_output_label_exp = np.sum(output_label_exp, axis = 0)\n",
    "    normalized_output_labels = output_label_exp / sum_output_label_exp\n",
    "    loss = -np.log(normalized_output_labels)\n",
    "    return loss"
   ]
  },
  {
   "cell_type": "code",
   "execution_count": null,
   "metadata": {},
   "outputs": [],
   "source": [
    "correct = 0\n",
    "total = 0\n",
    "model.to(avDev)\n",
    "\n",
    "with torch.no_grad():\n",
    "    for data in train_loader:\n",
    "        images, labels = data\n",
    "        images = images.view(-1, 3*32*32).to(avDev)\n",
    "        labels = labels.to(avDev)\n",
    "        outputs = model(images)\n",
    "        _, predicted = torch.max(outputs.data, 1)\n",
    "        loss1 = hinge_loss(outputs)\n",
    "        loss2 = softmax_loss(outputs)\n",
    "        print(loss1)\n",
    "        print(loss2)\n",
    "        total += labels.size(0)\n",
    "        correct += (predicted == labels).sum().item()\n"
   ]
  },
  {
   "cell_type": "code",
   "execution_count": null,
   "metadata": {},
   "outputs": [],
   "source": []
  }
 ],
 "metadata": {
  "kernelspec": {
   "display_name": "Python 3",
   "language": "python",
   "name": "python3"
  },
  "language_info": {
   "codemirror_mode": {
    "name": "ipython",
    "version": 3
   },
   "file_extension": ".py",
   "mimetype": "text/x-python",
   "name": "python",
   "nbconvert_exporter": "python",
   "pygments_lexer": "ipython3",
   "version": "3.7.4"
  }
 },
 "nbformat": 4,
 "nbformat_minor": 2
}
